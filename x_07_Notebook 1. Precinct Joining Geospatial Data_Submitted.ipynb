{
 "cells": [
  {
   "cell_type": "markdown",
   "metadata": {},
   "source": [
    "###### working directory: G:\\My Drive\\Data\\Precinct Data CA 2016\\Notebooks"
   ]
  },
  {
   "cell_type": "code",
   "execution_count": 1,
   "metadata": {},
   "outputs": [],
   "source": [
    "from pathlib import Path\n",
    "import json\n",
    "import numpy as np\n",
    "import geopandas as gpd\n",
    "import matplotlib.pyplot as plt\n",
    "import pandas as pd\n",
    "import shapely\n",
    "import shapely.geometry as sg\n",
    "import folium\n",
    "import geojson\n",
    "import fiona\n",
    "\n",
    "import matplotlib.cm as cm, matplotlib.font_manager as fm\n",
    "from datetime import datetime as dt\n",
    "from shapely.geometry import Polygon\n",
    "from geopy.distance import great_circle\n",
    "from geopandas import GeoDataFrame\n",
    "import descartes\n",
    "\n",
    "%matplotlib inline"
   ]
  },
  {
   "cell_type": "markdown",
   "metadata": {},
   "source": [
    "### This notebook does the following:\n",
    "    1. Reads in precinct data with geo\n",
    "    2. Reads in census data with geo\n",
    "    3. Joins precinct geodata with census data geodata\n",
    "    4. Creates a geofile with census boundaries with precinct data\n",
    "    5. Creates the new geofile as a pandas dataframe. "
   ]
  },
  {
   "cell_type": "markdown",
   "metadata": {},
   "source": [
    "### Step 1. Read in GeoData\n",
    "\n",
    "Reading in PRECINCT geo data for CA Congressional 50th District Precinct info"
   ]
  },
  {
   "cell_type": "code",
   "execution_count": 2,
   "metadata": {},
   "outputs": [
    {
     "data": {
      "text/html": [
       "<div>\n",
       "<style scoped>\n",
       "    .dataframe tbody tr th:only-of-type {\n",
       "        vertical-align: middle;\n",
       "    }\n",
       "\n",
       "    .dataframe tbody tr th {\n",
       "        vertical-align: top;\n",
       "    }\n",
       "\n",
       "    .dataframe thead th {\n",
       "        text-align: right;\n",
       "    }\n",
       "</style>\n",
       "<table border=\"1\" class=\"dataframe\">\n",
       "  <thead>\n",
       "    <tr style=\"text-align: right;\">\n",
       "      <th></th>\n",
       "      <th>precinct</th>\n",
       "      <th>x_precinct</th>\n",
       "      <th>y_precinct</th>\n",
       "      <th>party</th>\n",
       "      <th>votes</th>\n",
       "      <th>geometry</th>\n",
       "    </tr>\n",
       "  </thead>\n",
       "  <tbody>\n",
       "    <tr>\n",
       "      <th>0</th>\n",
       "      <td>419500</td>\n",
       "      <td>-117.252028</td>\n",
       "      <td>33.387489</td>\n",
       "      <td>democratic</td>\n",
       "      <td>384</td>\n",
       "      <td>POINT (-117.25203 33.38749)</td>\n",
       "    </tr>\n",
       "    <tr>\n",
       "      <th>1</th>\n",
       "      <td>419500</td>\n",
       "      <td>-117.252028</td>\n",
       "      <td>33.387489</td>\n",
       "      <td>republican</td>\n",
       "      <td>307</td>\n",
       "      <td>POINT (-117.25203 33.38749)</td>\n",
       "    </tr>\n",
       "  </tbody>\n",
       "</table>\n",
       "</div>"
      ],
      "text/plain": [
       "   precinct  x_precinct  y_precinct       party  votes  \\\n",
       "0    419500 -117.252028   33.387489  democratic    384   \n",
       "1    419500 -117.252028   33.387489  republican    307   \n",
       "\n",
       "                      geometry  \n",
       "0  POINT (-117.25203 33.38749)  \n",
       "1  POINT (-117.25203 33.38749)  "
      ]
     },
     "execution_count": 2,
     "metadata": {},
     "output_type": "execute_result"
    }
   ],
   "source": [
    "gdf_voter = gpd.read_file(r'G:\\My Drive\\Data\\Precinct Data CA 2016\\Geo_Files\\voter_data_2016_export.geojson', driver='GeoJSON')\n",
    "gdf_voter.head(2)"
   ]
  },
  {
   "cell_type": "code",
   "execution_count": 3,
   "metadata": {},
   "outputs": [
    {
     "name": "stdout",
     "output_type": "stream",
     "text": [
      "Number of Rows: 1066\n",
      "Number of Columns: 6\n"
     ]
    }
   ],
   "source": [
    "# number of rows and columns in df\n",
    "total_rows=len(gdf_voter.axes[0])\n",
    "total_cols=len(gdf_voter.axes[1])\n",
    "print(\"Number of Rows: \"+str(total_rows))\n",
    "print(\"Number of Columns: \"+str(total_cols))"
   ]
  },
  {
   "cell_type": "code",
   "execution_count": 4,
   "metadata": {},
   "outputs": [
    {
     "data": {
      "text/plain": [
       "<matplotlib.axes._subplots.AxesSubplot at 0x1a3c089a948>"
      ]
     },
     "execution_count": 4,
     "metadata": {},
     "output_type": "execute_result"
    },
    {
     "data": {
      "image/png": "[encoded data removed]",
      "text/plain": [
       "<Figure size 432x288 with 1 Axes>"
      ]
     },
     "metadata": {
      "needs_background": "light"
     },
     "output_type": "display_data"
    }
   ],
   "source": [
    "gdf_voter.plot()"
   ]
  },
  {
   "cell_type": "markdown",
   "metadata": {},
   "source": [
    "### Step 2.  Reading geo data for CA Congressional 50th District"
   ]
  },
  {
   "cell_type": "code",
   "execution_count": 5,
   "metadata": {},
   "outputs": [
    {
     "data": {
      "text/html": [
       "<div>\n",
       "<style scoped>\n",
       "    .dataframe tbody tr th:only-of-type {\n",
       "        vertical-align: middle;\n",
       "    }\n",
       "\n",
       "    .dataframe tbody tr th {\n",
       "        vertical-align: top;\n",
       "    }\n",
       "\n",
       "    .dataframe thead th {\n",
       "        text-align: right;\n",
       "    }\n",
       "</style>\n",
       "<table border=\"1\" class=\"dataframe\">\n",
       "  <thead>\n",
       "    <tr style=\"text-align: right;\">\n",
       "      <th></th>\n",
       "      <th>GEOID</th>\n",
       "      <th>geometry</th>\n",
       "    </tr>\n",
       "  </thead>\n",
       "  <tbody>\n",
       "    <tr>\n",
       "      <th>0</th>\n",
       "      <td>6065051200</td>\n",
       "      <td>MULTIPOLYGON (((-117.14876 33.47290, -117.1493...</td>\n",
       "    </tr>\n",
       "    <tr>\n",
       "      <th>1</th>\n",
       "      <td>6065049600</td>\n",
       "      <td>POLYGON ((-117.16311 33.52238, -117.16311 33.5...</td>\n",
       "    </tr>\n",
       "  </tbody>\n",
       "</table>\n",
       "</div>"
      ],
      "text/plain": [
       "        GEOID                                           geometry\n",
       "0  6065051200  MULTIPOLYGON (((-117.14876 33.47290, -117.1493...\n",
       "1  6065049600  POLYGON ((-117.16311 33.52238, -117.16311 33.5..."
      ]
     },
     "execution_count": 5,
     "metadata": {},
     "output_type": "execute_result"
    }
   ],
   "source": [
    "# reading GEOJSON File\n",
    "gdf_50th = gpd.read_file(r'G:\\My Drive\\Data\\Race Eth ACS 2017\\Geo_Files\\CA_congress.geojson', driver='GeoJSON')\n",
    "gdf_50th.head(2)"
   ]
  },
  {
   "cell_type": "code",
   "execution_count": 6,
   "metadata": {},
   "outputs": [
    {
     "name": "stdout",
     "output_type": "stream",
     "text": [
      "Number of Rows: 159\n",
      "Number of Columns: 2\n"
     ]
    }
   ],
   "source": [
    "# number of rows and columns in df\n",
    "total_rows=len(gdf_50th.axes[0])\n",
    "total_cols=len(gdf_50th.axes[1])\n",
    "print(\"Number of Rows: \"+str(total_rows))\n",
    "print(\"Number of Columns: \"+str(total_cols))"
   ]
  },
  {
   "cell_type": "code",
   "execution_count": 7,
   "metadata": {},
   "outputs": [
    {
     "data": {
      "image/png": "[encoded data removed]",
      "text/plain": [
       "<Figure size 432x288 with 1 Axes>"
      ]
     },
     "metadata": {
      "needs_background": "light"
     },
     "output_type": "display_data"
    }
   ],
   "source": [
    "gdf_ct = gdf_50th.plot(color='white', edgecolor='blue', zorder=1)\n",
    "gdf_voter.plot(ax=gdf_ct,  edgecolor='black', zorder=2);\n"
   ]
  },
  {
   "cell_type": "markdown",
   "metadata": {},
   "source": [
    "### Step 3.  Joining Census tract boudaries and precinct data"
   ]
  },
  {
   "cell_type": "code",
   "execution_count": 8,
   "metadata": {},
   "outputs": [
    {
     "data": {
      "text/plain": [
       "geopandas.geodataframe.GeoDataFrame"
      ]
     },
     "execution_count": 8,
     "metadata": {},
     "output_type": "execute_result"
    }
   ],
   "source": [
    "type(gdf_50th)"
   ]
  },
  {
   "cell_type": "code",
   "execution_count": 9,
   "metadata": {},
   "outputs": [
    {
     "data": {
      "text/plain": [
       "geopandas.geodataframe.GeoDataFrame"
      ]
     },
     "execution_count": 9,
     "metadata": {},
     "output_type": "execute_result"
    }
   ],
   "source": [
    "type(gdf_voter)"
   ]
  },
  {
   "cell_type": "code",
   "execution_count": 10,
   "metadata": {},
   "outputs": [],
   "source": [
    "data = gpd.sjoin(gdf_50th, gdf_voter, how='left', op='intersects')"
   ]
  },
  {
   "cell_type": "code",
   "execution_count": 11,
   "metadata": {},
   "outputs": [
    {
     "data": {
      "text/html": [
       "<div>\n",
       "<style scoped>\n",
       "    .dataframe tbody tr th:only-of-type {\n",
       "        vertical-align: middle;\n",
       "    }\n",
       "\n",
       "    .dataframe tbody tr th {\n",
       "        vertical-align: top;\n",
       "    }\n",
       "\n",
       "    .dataframe thead th {\n",
       "        text-align: right;\n",
       "    }\n",
       "</style>\n",
       "<table border=\"1\" class=\"dataframe\">\n",
       "  <thead>\n",
       "    <tr style=\"text-align: right;\">\n",
       "      <th></th>\n",
       "      <th>GEOID</th>\n",
       "      <th>geometry</th>\n",
       "      <th>index_right</th>\n",
       "      <th>precinct</th>\n",
       "      <th>x_precinct</th>\n",
       "      <th>y_precinct</th>\n",
       "      <th>party</th>\n",
       "      <th>votes</th>\n",
       "    </tr>\n",
       "  </thead>\n",
       "  <tbody>\n",
       "    <tr>\n",
       "      <th>72</th>\n",
       "      <td>6073020710</td>\n",
       "      <td>MULTIPOLYGON (((-117.04709 33.06868, -117.0473...</td>\n",
       "      <td>789.0</td>\n",
       "      <td>999071.0</td>\n",
       "      <td>-117.026354</td>\n",
       "      <td>33.064522</td>\n",
       "      <td>republican</td>\n",
       "      <td>0.0</td>\n",
       "    </tr>\n",
       "    <tr>\n",
       "      <th>24</th>\n",
       "      <td>6073019207</td>\n",
       "      <td>POLYGON ((-117.18396 33.25269, -117.18393 33.2...</td>\n",
       "      <td>818.0</td>\n",
       "      <td>999184.0</td>\n",
       "      <td>-117.235875</td>\n",
       "      <td>33.258208</td>\n",
       "      <td>democratic</td>\n",
       "      <td>0.0</td>\n",
       "    </tr>\n",
       "    <tr>\n",
       "      <th>153</th>\n",
       "      <td>6073020018</td>\n",
       "      <td>POLYGON ((-117.19511 33.15313, -117.19518 33.1...</td>\n",
       "      <td>934.0</td>\n",
       "      <td>999262.0</td>\n",
       "      <td>-117.218347</td>\n",
       "      <td>33.140060</td>\n",
       "      <td>democratic</td>\n",
       "      <td>0.0</td>\n",
       "    </tr>\n",
       "    <tr>\n",
       "      <th>6</th>\n",
       "      <td>6073021000</td>\n",
       "      <td>POLYGON ((-116.22336 32.72628, -116.22333 32.7...</td>\n",
       "      <td>797.0</td>\n",
       "      <td>999079.0</td>\n",
       "      <td>-116.361437</td>\n",
       "      <td>33.136743</td>\n",
       "      <td>republican</td>\n",
       "      <td>0.0</td>\n",
       "    </tr>\n",
       "    <tr>\n",
       "      <th>106</th>\n",
       "      <td>6073016804</td>\n",
       "      <td>POLYGON ((-116.89356 32.87086, -116.89357 32.8...</td>\n",
       "      <td>706.0</td>\n",
       "      <td>999025.0</td>\n",
       "      <td>-116.912861</td>\n",
       "      <td>32.868387</td>\n",
       "      <td>democratic</td>\n",
       "      <td>0.0</td>\n",
       "    </tr>\n",
       "    <tr>\n",
       "      <th>...</th>\n",
       "      <td>...</td>\n",
       "      <td>...</td>\n",
       "      <td>...</td>\n",
       "      <td>...</td>\n",
       "      <td>...</td>\n",
       "      <td>...</td>\n",
       "      <td>...</td>\n",
       "      <td>...</td>\n",
       "    </tr>\n",
       "    <tr>\n",
       "      <th>111</th>\n",
       "      <td>6073013410</td>\n",
       "      <td>POLYGON ((-116.96262 32.70027, -116.96281 32.7...</td>\n",
       "      <td>NaN</td>\n",
       "      <td>NaN</td>\n",
       "      <td>NaN</td>\n",
       "      <td>NaN</td>\n",
       "      <td>NaN</td>\n",
       "      <td>NaN</td>\n",
       "    </tr>\n",
       "    <tr>\n",
       "      <th>121</th>\n",
       "      <td>6073020214</td>\n",
       "      <td>POLYGON ((-117.07642 33.12571, -117.07645 33.1...</td>\n",
       "      <td>NaN</td>\n",
       "      <td>NaN</td>\n",
       "      <td>NaN</td>\n",
       "      <td>NaN</td>\n",
       "      <td>NaN</td>\n",
       "      <td>NaN</td>\n",
       "    </tr>\n",
       "    <tr>\n",
       "      <th>135</th>\n",
       "      <td>6073016301</td>\n",
       "      <td>POLYGON ((-116.95098 32.80430, -116.95132 32.8...</td>\n",
       "      <td>NaN</td>\n",
       "      <td>NaN</td>\n",
       "      <td>NaN</td>\n",
       "      <td>NaN</td>\n",
       "      <td>NaN</td>\n",
       "      <td>NaN</td>\n",
       "    </tr>\n",
       "    <tr>\n",
       "      <th>143</th>\n",
       "      <td>6065043218</td>\n",
       "      <td>MULTIPOLYGON (((-117.12179 33.51653, -117.1219...</td>\n",
       "      <td>NaN</td>\n",
       "      <td>NaN</td>\n",
       "      <td>NaN</td>\n",
       "      <td>NaN</td>\n",
       "      <td>NaN</td>\n",
       "      <td>NaN</td>\n",
       "    </tr>\n",
       "    <tr>\n",
       "      <th>147</th>\n",
       "      <td>6073009805</td>\n",
       "      <td>POLYGON ((-117.03096 32.82914, -117.03450 32.8...</td>\n",
       "      <td>NaN</td>\n",
       "      <td>NaN</td>\n",
       "      <td>NaN</td>\n",
       "      <td>NaN</td>\n",
       "      <td>NaN</td>\n",
       "      <td>NaN</td>\n",
       "    </tr>\n",
       "  </tbody>\n",
       "</table>\n",
       "<p>1072 rows × 8 columns</p>\n",
       "</div>"
      ],
      "text/plain": [
       "          GEOID                                           geometry  \\\n",
       "72   6073020710  MULTIPOLYGON (((-117.04709 33.06868, -117.0473...   \n",
       "24   6073019207  POLYGON ((-117.18396 33.25269, -117.18393 33.2...   \n",
       "153  6073020018  POLYGON ((-117.19511 33.15313, -117.19518 33.1...   \n",
       "6    6073021000  POLYGON ((-116.22336 32.72628, -116.22333 32.7...   \n",
       "106  6073016804  POLYGON ((-116.89356 32.87086, -116.89357 32.8...   \n",
       "..          ...                                                ...   \n",
       "111  6073013410  POLYGON ((-116.96262 32.70027, -116.96281 32.7...   \n",
       "121  6073020214  POLYGON ((-117.07642 33.12571, -117.07645 33.1...   \n",
       "135  6073016301  POLYGON ((-116.95098 32.80430, -116.95132 32.8...   \n",
       "143  6065043218  MULTIPOLYGON (((-117.12179 33.51653, -117.1219...   \n",
       "147  6073009805  POLYGON ((-117.03096 32.82914, -117.03450 32.8...   \n",
       "\n",
       "     index_right  precinct  x_precinct  y_precinct       party  votes  \n",
       "72         789.0  999071.0 -117.026354   33.064522  republican    0.0  \n",
       "24         818.0  999184.0 -117.235875   33.258208  democratic    0.0  \n",
       "153        934.0  999262.0 -117.218347   33.140060  democratic    0.0  \n",
       "6          797.0  999079.0 -116.361437   33.136743  republican    0.0  \n",
       "106        706.0  999025.0 -116.912861   32.868387  democratic    0.0  \n",
       "..           ...       ...         ...         ...         ...    ...  \n",
       "111          NaN       NaN         NaN         NaN         NaN    NaN  \n",
       "121          NaN       NaN         NaN         NaN         NaN    NaN  \n",
       "135          NaN       NaN         NaN         NaN         NaN    NaN  \n",
       "143          NaN       NaN         NaN         NaN         NaN    NaN  \n",
       "147          NaN       NaN         NaN         NaN         NaN    NaN  \n",
       "\n",
       "[1072 rows x 8 columns]"
      ]
     },
     "execution_count": 11,
     "metadata": {},
     "output_type": "execute_result"
    }
   ],
   "source": [
    "# sort by columns\n",
    "data.sort_values(by=['votes'])"
   ]
  },
  {
   "cell_type": "code",
   "execution_count": 12,
   "metadata": {},
   "outputs": [
    {
     "data": {
      "text/plain": [
       "geopandas.geodataframe.GeoDataFrame"
      ]
     },
     "execution_count": 12,
     "metadata": {},
     "output_type": "execute_result"
    }
   ],
   "source": [
    "type(data)"
   ]
  },
  {
   "cell_type": "code",
   "execution_count": 13,
   "metadata": {
    "scrolled": true
   },
   "outputs": [
    {
     "data": {
      "text/html": [
       "<div>\n",
       "<style scoped>\n",
       "    .dataframe tbody tr th:only-of-type {\n",
       "        vertical-align: middle;\n",
       "    }\n",
       "\n",
       "    .dataframe tbody tr th {\n",
       "        vertical-align: top;\n",
       "    }\n",
       "\n",
       "    .dataframe thead th {\n",
       "        text-align: right;\n",
       "    }\n",
       "</style>\n",
       "<table border=\"1\" class=\"dataframe\">\n",
       "  <thead>\n",
       "    <tr style=\"text-align: right;\">\n",
       "      <th></th>\n",
       "      <th>GEOID</th>\n",
       "      <th>geometry</th>\n",
       "      <th>index_right</th>\n",
       "      <th>precinct</th>\n",
       "      <th>x_precinct</th>\n",
       "      <th>y_precinct</th>\n",
       "      <th>party</th>\n",
       "      <th>votes</th>\n",
       "    </tr>\n",
       "  </thead>\n",
       "  <tbody>\n",
       "    <tr>\n",
       "      <th>0</th>\n",
       "      <td>6065051200</td>\n",
       "      <td>MULTIPOLYGON (((-117.14876 33.47290, -117.1493...</td>\n",
       "      <td>1014.0</td>\n",
       "      <td>33001.0</td>\n",
       "      <td>-117.160309</td>\n",
       "      <td>33.495322</td>\n",
       "      <td>democratic</td>\n",
       "      <td>224.0</td>\n",
       "    </tr>\n",
       "    <tr>\n",
       "      <th>0</th>\n",
       "      <td>6065051200</td>\n",
       "      <td>MULTIPOLYGON (((-117.14876 33.47290, -117.1493...</td>\n",
       "      <td>1015.0</td>\n",
       "      <td>33001.0</td>\n",
       "      <td>-117.160309</td>\n",
       "      <td>33.495322</td>\n",
       "      <td>republican</td>\n",
       "      <td>242.0</td>\n",
       "    </tr>\n",
       "  </tbody>\n",
       "</table>\n",
       "</div>"
      ],
      "text/plain": [
       "        GEOID                                           geometry  index_right  \\\n",
       "0  6065051200  MULTIPOLYGON (((-117.14876 33.47290, -117.1493...       1014.0   \n",
       "0  6065051200  MULTIPOLYGON (((-117.14876 33.47290, -117.1493...       1015.0   \n",
       "\n",
       "   precinct  x_precinct  y_precinct       party  votes  \n",
       "0   33001.0 -117.160309   33.495322  democratic  224.0  \n",
       "0   33001.0 -117.160309   33.495322  republican  242.0  "
      ]
     },
     "execution_count": 13,
     "metadata": {},
     "output_type": "execute_result"
    }
   ],
   "source": [
    "data.head(2)"
   ]
  },
  {
   "cell_type": "code",
   "execution_count": 14,
   "metadata": {},
   "outputs": [
    {
     "name": "stdout",
     "output_type": "stream",
     "text": [
      "Number of Rows: 1072\n",
      "Number of Columns: 8\n"
     ]
    }
   ],
   "source": [
    "# number of rows and columns in df\n",
    "total_rows=len(data.axes[0])\n",
    "total_cols=len(data.axes[1])\n",
    "print(\"Number of Rows: \"+str(total_rows))\n",
    "print(\"Number of Columns: \"+str(total_cols))"
   ]
  },
  {
   "cell_type": "markdown",
   "metadata": {},
   "source": [
    "### Step 4.  Data manipulation:\n",
    "\n",
    "a.) aggregating race data and summarizing on votes\n",
    "\n",
    "\n",
    "b.) pivoting aggregate dataframe to derive total votes and percentage of votes won by dems. "
   ]
  },
  {
   "cell_type": "code",
   "execution_count": 15,
   "metadata": {},
   "outputs": [
    {
     "data": {
      "text/plain": [
       "pandas.core.frame.DataFrame"
      ]
     },
     "execution_count": 15,
     "metadata": {},
     "output_type": "execute_result"
    }
   ],
   "source": [
    "# convert geopandas dataframe to pandas dataframe\n",
    "df = pd.DataFrame(data)\n",
    "type(df)"
   ]
  },
  {
   "cell_type": "code",
   "execution_count": 16,
   "metadata": {},
   "outputs": [
    {
     "data": {
      "text/html": [
       "<div>\n",
       "<style scoped>\n",
       "    .dataframe tbody tr th:only-of-type {\n",
       "        vertical-align: middle;\n",
       "    }\n",
       "\n",
       "    .dataframe tbody tr th {\n",
       "        vertical-align: top;\n",
       "    }\n",
       "\n",
       "    .dataframe thead th {\n",
       "        text-align: right;\n",
       "    }\n",
       "</style>\n",
       "<table border=\"1\" class=\"dataframe\">\n",
       "  <thead>\n",
       "    <tr style=\"text-align: right;\">\n",
       "      <th></th>\n",
       "      <th>GEOID</th>\n",
       "      <th>geometry</th>\n",
       "      <th>index_right</th>\n",
       "      <th>precinct</th>\n",
       "      <th>x_precinct</th>\n",
       "      <th>y_precinct</th>\n",
       "      <th>party</th>\n",
       "      <th>votes</th>\n",
       "    </tr>\n",
       "  </thead>\n",
       "  <tbody>\n",
       "    <tr>\n",
       "      <th>72</th>\n",
       "      <td>6073020710</td>\n",
       "      <td>MULTIPOLYGON (((-117.04709 33.06868, -117.0473...</td>\n",
       "      <td>789.0</td>\n",
       "      <td>999071.0</td>\n",
       "      <td>-117.026354</td>\n",
       "      <td>33.064522</td>\n",
       "      <td>republican</td>\n",
       "      <td>0.0</td>\n",
       "    </tr>\n",
       "    <tr>\n",
       "      <th>24</th>\n",
       "      <td>6073019207</td>\n",
       "      <td>POLYGON ((-117.18396 33.25269, -117.18393 33.2...</td>\n",
       "      <td>818.0</td>\n",
       "      <td>999184.0</td>\n",
       "      <td>-117.235875</td>\n",
       "      <td>33.258208</td>\n",
       "      <td>democratic</td>\n",
       "      <td>0.0</td>\n",
       "    </tr>\n",
       "  </tbody>\n",
       "</table>\n",
       "</div>"
      ],
      "text/plain": [
       "         GEOID                                           geometry  \\\n",
       "72  6073020710  MULTIPOLYGON (((-117.04709 33.06868, -117.0473...   \n",
       "24  6073019207  POLYGON ((-117.18396 33.25269, -117.18393 33.2...   \n",
       "\n",
       "    index_right  precinct  x_precinct  y_precinct       party  votes  \n",
       "72        789.0  999071.0 -117.026354   33.064522  republican    0.0  \n",
       "24        818.0  999184.0 -117.235875   33.258208  democratic    0.0  "
      ]
     },
     "execution_count": 16,
     "metadata": {},
     "output_type": "execute_result"
    }
   ],
   "source": [
    "# display all columns\n",
    "pd.set_option('display.max_columns', None)\n",
    "\n",
    "# # reset index and drop the old one\n",
    "# df.reset_index(drop=True, inplace=True)\n",
    "\n",
    "# sorting\n",
    "df.sort_values(by=['votes'], inplace=True)\n",
    "\n",
    "df.head(2)"
   ]
  },
  {
   "cell_type": "code",
   "execution_count": 17,
   "metadata": {},
   "outputs": [
    {
     "data": {
      "text/plain": [
       "282901.0"
      ]
     },
     "execution_count": 17,
     "metadata": {},
     "output_type": "execute_result"
    }
   ],
   "source": [
    "total_votes = df['votes'].sum()\n",
    "total_votes"
   ]
  },
  {
   "cell_type": "code",
   "execution_count": 18,
   "metadata": {},
   "outputs": [
    {
     "data": {
      "text/plain": [
       "Index(['GEOID', 'geometry', 'index_right', 'precinct', 'x_precinct',\n",
       "       'y_precinct', 'party', 'votes'],\n",
       "      dtype='object')"
      ]
     },
     "execution_count": 18,
     "metadata": {},
     "output_type": "execute_result"
    }
   ],
   "source": [
    "df.columns\n"
   ]
  },
  {
   "cell_type": "code",
   "execution_count": 19,
   "metadata": {
    "scrolled": true
   },
   "outputs": [
    {
     "data": {
      "text/html": [
       "<div>\n",
       "<style scoped>\n",
       "    .dataframe tbody tr th:only-of-type {\n",
       "        vertical-align: middle;\n",
       "    }\n",
       "\n",
       "    .dataframe tbody tr th {\n",
       "        vertical-align: top;\n",
       "    }\n",
       "\n",
       "    .dataframe thead th {\n",
       "        text-align: right;\n",
       "    }\n",
       "</style>\n",
       "<table border=\"1\" class=\"dataframe\">\n",
       "  <thead>\n",
       "    <tr style=\"text-align: right;\">\n",
       "      <th></th>\n",
       "      <th>GEOID</th>\n",
       "      <th>precinct</th>\n",
       "      <th>party</th>\n",
       "      <th>votes</th>\n",
       "      <th>x_precinct</th>\n",
       "      <th>y_precinct</th>\n",
       "      <th>geometry</th>\n",
       "    </tr>\n",
       "  </thead>\n",
       "  <tbody>\n",
       "    <tr>\n",
       "      <th>72</th>\n",
       "      <td>6073020710</td>\n",
       "      <td>999071.0</td>\n",
       "      <td>republican</td>\n",
       "      <td>0.0</td>\n",
       "      <td>-117.026354</td>\n",
       "      <td>33.064522</td>\n",
       "      <td>MULTIPOLYGON (((-117.04709 33.06868, -117.0473...</td>\n",
       "    </tr>\n",
       "    <tr>\n",
       "      <th>24</th>\n",
       "      <td>6073019207</td>\n",
       "      <td>999184.0</td>\n",
       "      <td>democratic</td>\n",
       "      <td>0.0</td>\n",
       "      <td>-117.235875</td>\n",
       "      <td>33.258208</td>\n",
       "      <td>POLYGON ((-117.18396 33.25269, -117.18393 33.2...</td>\n",
       "    </tr>\n",
       "    <tr>\n",
       "      <th>153</th>\n",
       "      <td>6073020018</td>\n",
       "      <td>999262.0</td>\n",
       "      <td>democratic</td>\n",
       "      <td>0.0</td>\n",
       "      <td>-117.218347</td>\n",
       "      <td>33.140060</td>\n",
       "      <td>POLYGON ((-117.19511 33.15313, -117.19518 33.1...</td>\n",
       "    </tr>\n",
       "    <tr>\n",
       "      <th>6</th>\n",
       "      <td>6073021000</td>\n",
       "      <td>999079.0</td>\n",
       "      <td>republican</td>\n",
       "      <td>0.0</td>\n",
       "      <td>-116.361437</td>\n",
       "      <td>33.136743</td>\n",
       "      <td>POLYGON ((-116.22336 32.72628, -116.22333 32.7...</td>\n",
       "    </tr>\n",
       "    <tr>\n",
       "      <th>106</th>\n",
       "      <td>6073016804</td>\n",
       "      <td>999025.0</td>\n",
       "      <td>democratic</td>\n",
       "      <td>0.0</td>\n",
       "      <td>-116.912861</td>\n",
       "      <td>32.868387</td>\n",
       "      <td>POLYGON ((-116.89356 32.87086, -116.89357 32.8...</td>\n",
       "    </tr>\n",
       "    <tr>\n",
       "      <th>...</th>\n",
       "      <td>...</td>\n",
       "      <td>...</td>\n",
       "      <td>...</td>\n",
       "      <td>...</td>\n",
       "      <td>...</td>\n",
       "      <td>...</td>\n",
       "      <td>...</td>\n",
       "    </tr>\n",
       "    <tr>\n",
       "      <th>111</th>\n",
       "      <td>6073013410</td>\n",
       "      <td>NaN</td>\n",
       "      <td>NaN</td>\n",
       "      <td>NaN</td>\n",
       "      <td>NaN</td>\n",
       "      <td>NaN</td>\n",
       "      <td>POLYGON ((-116.96262 32.70027, -116.96281 32.7...</td>\n",
       "    </tr>\n",
       "    <tr>\n",
       "      <th>121</th>\n",
       "      <td>6073020214</td>\n",
       "      <td>NaN</td>\n",
       "      <td>NaN</td>\n",
       "      <td>NaN</td>\n",
       "      <td>NaN</td>\n",
       "      <td>NaN</td>\n",
       "      <td>POLYGON ((-117.07642 33.12571, -117.07645 33.1...</td>\n",
       "    </tr>\n",
       "    <tr>\n",
       "      <th>135</th>\n",
       "      <td>6073016301</td>\n",
       "      <td>NaN</td>\n",
       "      <td>NaN</td>\n",
       "      <td>NaN</td>\n",
       "      <td>NaN</td>\n",
       "      <td>NaN</td>\n",
       "      <td>POLYGON ((-116.95098 32.80430, -116.95132 32.8...</td>\n",
       "    </tr>\n",
       "    <tr>\n",
       "      <th>143</th>\n",
       "      <td>6065043218</td>\n",
       "      <td>NaN</td>\n",
       "      <td>NaN</td>\n",
       "      <td>NaN</td>\n",
       "      <td>NaN</td>\n",
       "      <td>NaN</td>\n",
       "      <td>MULTIPOLYGON (((-117.12179 33.51653, -117.1219...</td>\n",
       "    </tr>\n",
       "    <tr>\n",
       "      <th>147</th>\n",
       "      <td>6073009805</td>\n",
       "      <td>NaN</td>\n",
       "      <td>NaN</td>\n",
       "      <td>NaN</td>\n",
       "      <td>NaN</td>\n",
       "      <td>NaN</td>\n",
       "      <td>POLYGON ((-117.03096 32.82914, -117.03450 32.8...</td>\n",
       "    </tr>\n",
       "  </tbody>\n",
       "</table>\n",
       "<p>1072 rows × 7 columns</p>\n",
       "</div>"
      ],
      "text/plain": [
       "          GEOID  precinct       party  votes  x_precinct  y_precinct  \\\n",
       "72   6073020710  999071.0  republican    0.0 -117.026354   33.064522   \n",
       "24   6073019207  999184.0  democratic    0.0 -117.235875   33.258208   \n",
       "153  6073020018  999262.0  democratic    0.0 -117.218347   33.140060   \n",
       "6    6073021000  999079.0  republican    0.0 -116.361437   33.136743   \n",
       "106  6073016804  999025.0  democratic    0.0 -116.912861   32.868387   \n",
       "..          ...       ...         ...    ...         ...         ...   \n",
       "111  6073013410       NaN         NaN    NaN         NaN         NaN   \n",
       "121  6073020214       NaN         NaN    NaN         NaN         NaN   \n",
       "135  6073016301       NaN         NaN    NaN         NaN         NaN   \n",
       "143  6065043218       NaN         NaN    NaN         NaN         NaN   \n",
       "147  6073009805       NaN         NaN    NaN         NaN         NaN   \n",
       "\n",
       "                                              geometry  \n",
       "72   MULTIPOLYGON (((-117.04709 33.06868, -117.0473...  \n",
       "24   POLYGON ((-117.18396 33.25269, -117.18393 33.2...  \n",
       "153  POLYGON ((-117.19511 33.15313, -117.19518 33.1...  \n",
       "6    POLYGON ((-116.22336 32.72628, -116.22333 32.7...  \n",
       "106  POLYGON ((-116.89356 32.87086, -116.89357 32.8...  \n",
       "..                                                 ...  \n",
       "111  POLYGON ((-116.96262 32.70027, -116.96281 32.7...  \n",
       "121  POLYGON ((-117.07642 33.12571, -117.07645 33.1...  \n",
       "135  POLYGON ((-116.95098 32.80430, -116.95132 32.8...  \n",
       "143  MULTIPOLYGON (((-117.12179 33.51653, -117.1219...  \n",
       "147  POLYGON ((-117.03096 32.82914, -117.03450 32.8...  \n",
       "\n",
       "[1072 rows x 7 columns]"
      ]
     },
     "execution_count": 19,
     "metadata": {},
     "output_type": "execute_result"
    }
   ],
   "source": [
    "selection_a = ['GEOID', 'precinct', 'party',\n",
    "               'votes', 'x_precinct', 'y_precinct','geometry',]\n",
    "\n",
    "df = pd.DataFrame(df[selection_a])\n",
    "df"
   ]
  },
  {
   "cell_type": "code",
   "execution_count": 20,
   "metadata": {},
   "outputs": [
    {
     "name": "stdout",
     "output_type": "stream",
     "text": [
      "Number of Rows: 1072\n",
      "Number of Columns: 7\n"
     ]
    }
   ],
   "source": [
    "# number of rows and columns in df\n",
    "total_rows=len(df.axes[0])\n",
    "total_cols=len(df.axes[1])\n",
    "print(\"Number of Rows: \"+str(total_rows))\n",
    "print(\"Number of Columns: \"+str(total_cols))"
   ]
  },
  {
   "cell_type": "code",
   "execution_count": 21,
   "metadata": {},
   "outputs": [
    {
     "data": {
      "text/plain": [
       "Index(['GEOID', 'precinct', 'party', 'votes', 'x_precinct', 'y_precinct',\n",
       "       'geometry'],\n",
       "      dtype='object')"
      ]
     },
     "execution_count": 21,
     "metadata": {},
     "output_type": "execute_result"
    }
   ],
   "source": [
    "df.columns"
   ]
  },
  {
   "cell_type": "markdown",
   "metadata": {},
   "source": [
    "#### Aggregating data"
   ]
  },
  {
   "cell_type": "code",
   "execution_count": 22,
   "metadata": {},
   "outputs": [
    {
     "data": {
      "text/html": [
       "<div>\n",
       "<style scoped>\n",
       "    .dataframe tbody tr th:only-of-type {\n",
       "        vertical-align: middle;\n",
       "    }\n",
       "\n",
       "    .dataframe tbody tr th {\n",
       "        vertical-align: top;\n",
       "    }\n",
       "\n",
       "    .dataframe thead th {\n",
       "        text-align: right;\n",
       "    }\n",
       "</style>\n",
       "<table border=\"1\" class=\"dataframe\">\n",
       "  <thead>\n",
       "    <tr style=\"text-align: right;\">\n",
       "      <th></th>\n",
       "      <th>GEOID</th>\n",
       "      <th>party</th>\n",
       "      <th>votes</th>\n",
       "    </tr>\n",
       "  </thead>\n",
       "  <tbody>\n",
       "    <tr>\n",
       "      <th>0</th>\n",
       "      <td>6065043216</td>\n",
       "      <td>democratic</td>\n",
       "      <td>825.0</td>\n",
       "    </tr>\n",
       "    <tr>\n",
       "      <th>1</th>\n",
       "      <td>6065043216</td>\n",
       "      <td>republican</td>\n",
       "      <td>1276.0</td>\n",
       "    </tr>\n",
       "  </tbody>\n",
       "</table>\n",
       "</div>"
      ],
      "text/plain": [
       "        GEOID       party   votes\n",
       "0  6065043216  democratic   825.0\n",
       "1  6065043216  republican  1276.0"
      ]
     },
     "execution_count": 22,
     "metadata": {},
     "output_type": "execute_result"
    }
   ],
   "source": [
    "# columns to group by:\n",
    "groupby_these_cols = ['GEOID', 'party']\n",
    "\n",
    "# aggregating by all race data and summarizing on votes\n",
    "agg = df.groupby(groupby_these_cols).agg(\n",
    "                                    votes=('votes', sum)).reset_index()\n",
    "agg.head(2)"
   ]
  },
  {
   "cell_type": "code",
   "execution_count": 23,
   "metadata": {},
   "outputs": [
    {
     "name": "stdout",
     "output_type": "stream",
     "text": [
      "Number of Rows: 286\n",
      "Number of Columns: 3\n"
     ]
    }
   ],
   "source": [
    "# number of rows and columns in df\n",
    "total_rows=len(agg.axes[0])\n",
    "total_cols=len(agg.axes[1])\n",
    "print(\"Number of Rows: \"+str(total_rows))\n",
    "print(\"Number of Columns: \"+str(total_cols))"
   ]
  },
  {
   "cell_type": "code",
   "execution_count": 24,
   "metadata": {},
   "outputs": [
    {
     "data": {
      "text/html": [
       "<div>\n",
       "<style scoped>\n",
       "    .dataframe tbody tr th:only-of-type {\n",
       "        vertical-align: middle;\n",
       "    }\n",
       "\n",
       "    .dataframe tbody tr th {\n",
       "        vertical-align: top;\n",
       "    }\n",
       "\n",
       "    .dataframe thead th {\n",
       "        text-align: right;\n",
       "    }\n",
       "</style>\n",
       "<table border=\"1\" class=\"dataframe\">\n",
       "  <thead>\n",
       "    <tr style=\"text-align: right;\">\n",
       "      <th></th>\n",
       "      <th>GEOID</th>\n",
       "      <th>party</th>\n",
       "      <th>votes</th>\n",
       "    </tr>\n",
       "  </thead>\n",
       "  <tbody>\n",
       "    <tr>\n",
       "      <th>0</th>\n",
       "      <td>6065043216</td>\n",
       "      <td>democratic</td>\n",
       "      <td>825.0</td>\n",
       "    </tr>\n",
       "    <tr>\n",
       "      <th>148</th>\n",
       "      <td>6073019106</td>\n",
       "      <td>democratic</td>\n",
       "      <td>1490.0</td>\n",
       "    </tr>\n",
       "    <tr>\n",
       "      <th>150</th>\n",
       "      <td>6073019107</td>\n",
       "      <td>democratic</td>\n",
       "      <td>188.0</td>\n",
       "    </tr>\n",
       "    <tr>\n",
       "      <th>152</th>\n",
       "      <td>6073019207</td>\n",
       "      <td>democratic</td>\n",
       "      <td>218.0</td>\n",
       "    </tr>\n",
       "  </tbody>\n",
       "</table>\n",
       "</div>"
      ],
      "text/plain": [
       "          GEOID       party   votes\n",
       "0    6065043216  democratic   825.0\n",
       "148  6073019106  democratic  1490.0\n",
       "150  6073019107  democratic   188.0\n",
       "152  6073019207  democratic   218.0"
      ]
     },
     "execution_count": 24,
     "metadata": {},
     "output_type": "execute_result"
    }
   ],
   "source": [
    "# sorting\n",
    "agg.sort_values(by=['party'], inplace=True)\n",
    "agg.head(4)"
   ]
  },
  {
   "cell_type": "code",
   "execution_count": 25,
   "metadata": {},
   "outputs": [
    {
     "data": {
      "text/html": [
       "<div>\n",
       "<style scoped>\n",
       "    .dataframe tbody tr th:only-of-type {\n",
       "        vertical-align: middle;\n",
       "    }\n",
       "\n",
       "    .dataframe tbody tr th {\n",
       "        vertical-align: top;\n",
       "    }\n",
       "\n",
       "    .dataframe thead th {\n",
       "        text-align: right;\n",
       "    }\n",
       "</style>\n",
       "<table border=\"1\" class=\"dataframe\">\n",
       "  <thead>\n",
       "    <tr style=\"text-align: right;\">\n",
       "      <th>party</th>\n",
       "      <th>democratic</th>\n",
       "      <th>republican</th>\n",
       "    </tr>\n",
       "    <tr>\n",
       "      <th>GEOID</th>\n",
       "      <th></th>\n",
       "      <th></th>\n",
       "    </tr>\n",
       "  </thead>\n",
       "  <tbody>\n",
       "    <tr>\n",
       "      <th>6065043216</th>\n",
       "      <td>825.0</td>\n",
       "      <td>1276.0</td>\n",
       "    </tr>\n",
       "    <tr>\n",
       "      <th>6065043220</th>\n",
       "      <td>500.0</td>\n",
       "      <td>623.0</td>\n",
       "    </tr>\n",
       "    <tr>\n",
       "      <th>6065043222</th>\n",
       "      <td>632.0</td>\n",
       "      <td>1438.0</td>\n",
       "    </tr>\n",
       "  </tbody>\n",
       "</table>\n",
       "</div>"
      ],
      "text/plain": [
       "party       democratic  republican\n",
       "GEOID                             \n",
       "6065043216       825.0      1276.0\n",
       "6065043220       500.0       623.0\n",
       "6065043222       632.0      1438.0"
      ]
     },
     "execution_count": 25,
     "metadata": {},
     "output_type": "execute_result"
    }
   ],
   "source": [
    "# pivoting the aggregate to get total votes and percentage of votes won by Dems\n",
    "pivot2 = agg.pivot(index='GEOID', columns='party', values='votes')\n",
    "pivot2.reset_index()\n",
    "pivot2.head(3)"
   ]
  },
  {
   "cell_type": "code",
   "execution_count": 26,
   "metadata": {},
   "outputs": [
    {
     "data": {
      "text/html": [
       "<div>\n",
       "<style scoped>\n",
       "    .dataframe tbody tr th:only-of-type {\n",
       "        vertical-align: middle;\n",
       "    }\n",
       "\n",
       "    .dataframe tbody tr th {\n",
       "        vertical-align: top;\n",
       "    }\n",
       "\n",
       "    .dataframe thead th {\n",
       "        text-align: right;\n",
       "    }\n",
       "</style>\n",
       "<table border=\"1\" class=\"dataframe\">\n",
       "  <thead>\n",
       "    <tr style=\"text-align: right;\">\n",
       "      <th>party</th>\n",
       "      <th>democratic</th>\n",
       "      <th>republican</th>\n",
       "      <th>total_votes_by_ct</th>\n",
       "      <th>dem_pct_vote</th>\n",
       "    </tr>\n",
       "    <tr>\n",
       "      <th>GEOID</th>\n",
       "      <th></th>\n",
       "      <th></th>\n",
       "      <th></th>\n",
       "      <th></th>\n",
       "    </tr>\n",
       "  </thead>\n",
       "  <tbody>\n",
       "    <tr>\n",
       "      <th>6065043216</th>\n",
       "      <td>825.0</td>\n",
       "      <td>1276.0</td>\n",
       "      <td>2101.0</td>\n",
       "      <td>39.3</td>\n",
       "    </tr>\n",
       "    <tr>\n",
       "      <th>6065043220</th>\n",
       "      <td>500.0</td>\n",
       "      <td>623.0</td>\n",
       "      <td>1123.0</td>\n",
       "      <td>44.5</td>\n",
       "    </tr>\n",
       "    <tr>\n",
       "      <th>6065043222</th>\n",
       "      <td>632.0</td>\n",
       "      <td>1438.0</td>\n",
       "      <td>2070.0</td>\n",
       "      <td>30.5</td>\n",
       "    </tr>\n",
       "    <tr>\n",
       "      <th>6065043246</th>\n",
       "      <td>546.0</td>\n",
       "      <td>1230.0</td>\n",
       "      <td>1776.0</td>\n",
       "      <td>30.7</td>\n",
       "    </tr>\n",
       "    <tr>\n",
       "      <th>6065043248</th>\n",
       "      <td>584.0</td>\n",
       "      <td>1103.0</td>\n",
       "      <td>1687.0</td>\n",
       "      <td>34.6</td>\n",
       "    </tr>\n",
       "    <tr>\n",
       "      <th>...</th>\n",
       "      <td>...</td>\n",
       "      <td>...</td>\n",
       "      <td>...</td>\n",
       "      <td>...</td>\n",
       "    </tr>\n",
       "    <tr>\n",
       "      <th>6073021205</th>\n",
       "      <td>871.0</td>\n",
       "      <td>2393.0</td>\n",
       "      <td>3264.0</td>\n",
       "      <td>26.7</td>\n",
       "    </tr>\n",
       "    <tr>\n",
       "      <th>6073021206</th>\n",
       "      <td>485.0</td>\n",
       "      <td>1495.0</td>\n",
       "      <td>1980.0</td>\n",
       "      <td>24.5</td>\n",
       "    </tr>\n",
       "    <tr>\n",
       "      <th>6073021302</th>\n",
       "      <td>3.0</td>\n",
       "      <td>6.0</td>\n",
       "      <td>9.0</td>\n",
       "      <td>33.3</td>\n",
       "    </tr>\n",
       "    <tr>\n",
       "      <th>6073021303</th>\n",
       "      <td>832.0</td>\n",
       "      <td>1814.0</td>\n",
       "      <td>2646.0</td>\n",
       "      <td>31.4</td>\n",
       "    </tr>\n",
       "    <tr>\n",
       "      <th>6073021304</th>\n",
       "      <td>434.0</td>\n",
       "      <td>1209.0</td>\n",
       "      <td>1643.0</td>\n",
       "      <td>26.4</td>\n",
       "    </tr>\n",
       "  </tbody>\n",
       "</table>\n",
       "<p>143 rows × 4 columns</p>\n",
       "</div>"
      ],
      "text/plain": [
       "party       democratic  republican  total_votes_by_ct  dem_pct_vote\n",
       "GEOID                                                              \n",
       "6065043216       825.0      1276.0             2101.0          39.3\n",
       "6065043220       500.0       623.0             1123.0          44.5\n",
       "6065043222       632.0      1438.0             2070.0          30.5\n",
       "6065043246       546.0      1230.0             1776.0          30.7\n",
       "6065043248       584.0      1103.0             1687.0          34.6\n",
       "...                ...         ...                ...           ...\n",
       "6073021205       871.0      2393.0             3264.0          26.7\n",
       "6073021206       485.0      1495.0             1980.0          24.5\n",
       "6073021302         3.0         6.0                9.0          33.3\n",
       "6073021303       832.0      1814.0             2646.0          31.4\n",
       "6073021304       434.0      1209.0             1643.0          26.4\n",
       "\n",
       "[143 rows x 4 columns]"
      ]
     },
     "execution_count": 26,
     "metadata": {},
     "output_type": "execute_result"
    }
   ],
   "source": [
    "# doing basic math\n",
    "pivot2['total_votes_by_ct'] = pivot2['democratic'] + pivot2['republican']\n",
    "pivot2['dem_pct_vote'] = pivot2['democratic'] / pivot2['total_votes_by_ct'] * 100\n",
    "pivot2 = pivot2.round({'dem_pct_vote': 1})\n",
    "pivot2"
   ]
  },
  {
   "cell_type": "code",
   "execution_count": 27,
   "metadata": {},
   "outputs": [],
   "source": [
    "# flatten the pivot table for tidy data\n",
    "pivot2 = pivot2.rename_axis(None, axis=1,)\n",
    "pivot3 = pivot2.rename_axis(None, axis=1).reset_index()"
   ]
  },
  {
   "cell_type": "code",
   "execution_count": 30,
   "metadata": {},
   "outputs": [
    {
     "data": {
      "text/html": [
       "<div>\n",
       "<style scoped>\n",
       "    .dataframe tbody tr th:only-of-type {\n",
       "        vertical-align: middle;\n",
       "    }\n",
       "\n",
       "    .dataframe tbody tr th {\n",
       "        vertical-align: top;\n",
       "    }\n",
       "\n",
       "    .dataframe thead th {\n",
       "        text-align: right;\n",
       "    }\n",
       "</style>\n",
       "<table border=\"1\" class=\"dataframe\">\n",
       "  <thead>\n",
       "    <tr style=\"text-align: right;\">\n",
       "      <th></th>\n",
       "      <th>GEOID</th>\n",
       "      <th>democratic</th>\n",
       "      <th>republican</th>\n",
       "      <th>total_votes_by_ct</th>\n",
       "      <th>dem_pct_vote</th>\n",
       "    </tr>\n",
       "  </thead>\n",
       "  <tbody>\n",
       "    <tr>\n",
       "      <th>0</th>\n",
       "      <td>6065043216</td>\n",
       "      <td>825.0</td>\n",
       "      <td>1276.0</td>\n",
       "      <td>2101.0</td>\n",
       "      <td>39.3</td>\n",
       "    </tr>\n",
       "    <tr>\n",
       "      <th>1</th>\n",
       "      <td>6065043220</td>\n",
       "      <td>500.0</td>\n",
       "      <td>623.0</td>\n",
       "      <td>1123.0</td>\n",
       "      <td>44.5</td>\n",
       "    </tr>\n",
       "  </tbody>\n",
       "</table>\n",
       "</div>"
      ],
      "text/plain": [
       "        GEOID  democratic  republican  total_votes_by_ct  dem_pct_vote\n",
       "0  6065043216       825.0      1276.0             2101.0          39.3\n",
       "1  6065043220       500.0       623.0             1123.0          44.5"
      ]
     },
     "execution_count": 30,
     "metadata": {},
     "output_type": "execute_result"
    }
   ],
   "source": [
    "pivot3.head(2)"
   ]
  },
  {
   "cell_type": "code",
   "execution_count": 31,
   "metadata": {},
   "outputs": [
    {
     "data": {
      "text/plain": [
       "282901.0"
      ]
     },
     "execution_count": 31,
     "metadata": {},
     "output_type": "execute_result"
    }
   ],
   "source": [
    "total_votes = pivot3['total_votes_by_ct'].sum()\n",
    "total_votes"
   ]
  },
  {
   "cell_type": "markdown",
   "metadata": {},
   "source": [
    "### Step 5. Join Manipulated data back to geospatial data for census data geo "
   ]
  },
  {
   "cell_type": "code",
   "execution_count": 33,
   "metadata": {},
   "outputs": [
    {
     "data": {
      "text/html": [
       "<div>\n",
       "<style scoped>\n",
       "    .dataframe tbody tr th:only-of-type {\n",
       "        vertical-align: middle;\n",
       "    }\n",
       "\n",
       "    .dataframe tbody tr th {\n",
       "        vertical-align: top;\n",
       "    }\n",
       "\n",
       "    .dataframe thead th {\n",
       "        text-align: right;\n",
       "    }\n",
       "</style>\n",
       "<table border=\"1\" class=\"dataframe\">\n",
       "  <thead>\n",
       "    <tr style=\"text-align: right;\">\n",
       "      <th></th>\n",
       "      <th>GEOID</th>\n",
       "      <th>geometry</th>\n",
       "    </tr>\n",
       "  </thead>\n",
       "  <tbody>\n",
       "    <tr>\n",
       "      <th>0</th>\n",
       "      <td>6065051200</td>\n",
       "      <td>MULTIPOLYGON (((-117.14876 33.47290, -117.1493...</td>\n",
       "    </tr>\n",
       "    <tr>\n",
       "      <th>1</th>\n",
       "      <td>6065049600</td>\n",
       "      <td>POLYGON ((-117.16311 33.52238, -117.16311 33.5...</td>\n",
       "    </tr>\n",
       "  </tbody>\n",
       "</table>\n",
       "</div>"
      ],
      "text/plain": [
       "        GEOID                                           geometry\n",
       "0  6065051200  MULTIPOLYGON (((-117.14876 33.47290, -117.1493...\n",
       "1  6065049600  POLYGON ((-117.16311 33.52238, -117.16311 33.5..."
      ]
     },
     "execution_count": 33,
     "metadata": {},
     "output_type": "execute_result"
    }
   ],
   "source": [
    "gdf_50th.head(2)"
   ]
  },
  {
   "cell_type": "code",
   "execution_count": 34,
   "metadata": {},
   "outputs": [
    {
     "data": {
      "text/html": [
       "<div>\n",
       "<style scoped>\n",
       "    .dataframe tbody tr th:only-of-type {\n",
       "        vertical-align: middle;\n",
       "    }\n",
       "\n",
       "    .dataframe tbody tr th {\n",
       "        vertical-align: top;\n",
       "    }\n",
       "\n",
       "    .dataframe thead th {\n",
       "        text-align: right;\n",
       "    }\n",
       "</style>\n",
       "<table border=\"1\" class=\"dataframe\">\n",
       "  <thead>\n",
       "    <tr style=\"text-align: right;\">\n",
       "      <th></th>\n",
       "      <th>GEOID</th>\n",
       "      <th>geometry</th>\n",
       "      <th>democratic</th>\n",
       "      <th>republican</th>\n",
       "      <th>total_votes_by_ct</th>\n",
       "      <th>dem_pct_vote</th>\n",
       "    </tr>\n",
       "  </thead>\n",
       "  <tbody>\n",
       "    <tr>\n",
       "      <th>0</th>\n",
       "      <td>6065051200</td>\n",
       "      <td>MULTIPOLYGON (((-117.14876 33.47290, -117.1493...</td>\n",
       "      <td>224.0</td>\n",
       "      <td>242.0</td>\n",
       "      <td>466.0</td>\n",
       "      <td>48.1</td>\n",
       "    </tr>\n",
       "    <tr>\n",
       "      <th>1</th>\n",
       "      <td>6073020029</td>\n",
       "      <td>POLYGON ((-117.18903 33.14812, -117.18895 33.1...</td>\n",
       "      <td>279.0</td>\n",
       "      <td>223.0</td>\n",
       "      <td>502.0</td>\n",
       "      <td>55.6</td>\n",
       "    </tr>\n",
       "  </tbody>\n",
       "</table>\n",
       "</div>"
      ],
      "text/plain": [
       "        GEOID                                           geometry  democratic  \\\n",
       "0  6065051200  MULTIPOLYGON (((-117.14876 33.47290, -117.1493...       224.0   \n",
       "1  6073020029  POLYGON ((-117.18903 33.14812, -117.18895 33.1...       279.0   \n",
       "\n",
       "   republican  total_votes_by_ct  dem_pct_vote  \n",
       "0       242.0              466.0          48.1  \n",
       "1       223.0              502.0          55.6  "
      ]
     },
     "execution_count": 34,
     "metadata": {},
     "output_type": "execute_result"
    }
   ],
   "source": [
    "# reading GEOJSON File\n",
    "gdf_50th = gpd.read_file(r'G:\\My Drive\\Data\\Race Eth ACS 2017\\Geo_Files\\CA_congress.geojson', driver='GeoJSON')\n",
    "\n",
    "\n",
    "# Joining Census Tract label and County label\n",
    "gdf_final = pd.merge(gdf_50th, pivot3, on='GEOID', how='inner')\n",
    "gdf_final.head(2)\n"
   ]
  },
  {
   "cell_type": "code",
   "execution_count": 35,
   "metadata": {},
   "outputs": [
    {
     "name": "stdout",
     "output_type": "stream",
     "text": [
      "Number of Rows: 143\n",
      "Number of Columns: 6\n"
     ]
    }
   ],
   "source": [
    "\n",
    "# number of rows and columns in df\n",
    "total_rows=len(gdf_final.axes[0])\n",
    "total_cols=len(gdf_final.axes[1])\n",
    "print(\"Number of Rows: \"+str(total_rows))\n",
    "print(\"Number of Columns: \"+str(total_cols))"
   ]
  },
  {
   "cell_type": "code",
   "execution_count": 37,
   "metadata": {},
   "outputs": [
    {
     "data": {
      "text/plain": [
       "282901.0"
      ]
     },
     "execution_count": 37,
     "metadata": {},
     "output_type": "execute_result"
    }
   ],
   "source": [
    "total_votes = gdf_final['total_votes_by_ct'].sum()\n",
    "total_votes"
   ]
  },
  {
   "cell_type": "code",
   "execution_count": 38,
   "metadata": {},
   "outputs": [],
   "source": [
    "# creating json file\n",
    "gdf_final.to_file(r'G:\\My Drive\\Data\\Precinct Data CA 2016\\Geo_Files\\precinct_data_2016_by_ct_export_submitted.json', driver='GeoJSON')\n",
    "\n",
    "# creating json file\n",
    "gdf_final.to_file(r'G:\\My Drive\\Data\\Precinct Data CA 2016\\Geo_Files\\precinct_data_2016_by_ct_export_submitted.geojson', driver='GeoJSON')\n",
    "\n",
    "# creating csv file\n",
    "gdf_final.to_csv(r'G:\\My Drive\\Data\\Precinct Data CA 2016\\Geo_Files\\precinct_data_2016_by_ct_export_submitted.csv', index=False)"
   ]
  },
  {
   "cell_type": "code",
   "execution_count": null,
   "metadata": {},
   "outputs": [],
   "source": []
  },
  {
   "cell_type": "code",
   "execution_count": null,
   "metadata": {},
   "outputs": [],
   "source": []
  },
  {
   "cell_type": "code",
   "execution_count": null,
   "metadata": {},
   "outputs": [],
   "source": []
  }
 ],
 "metadata": {
  "kernelspec": {
   "display_name": "Python 3",
   "language": "python",
   "name": "python3"
  },
  "language_info": {
   "codemirror_mode": {
    "name": "ipython",
    "version": 3
   },
   "file_extension": ".py",
   "mimetype": "text/x-python",
   "name": "python",
   "nbconvert_exporter": "python",
   "pygments_lexer": "ipython3",
   "version": "3.7.6"
  }
 },
 "nbformat": 4,
 "nbformat_minor": 4
}
