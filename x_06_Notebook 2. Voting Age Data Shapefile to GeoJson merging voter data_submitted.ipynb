{
 "cells": [
  {
   "cell_type": "markdown",
   "metadata": {},
   "source": [
    "###### working directory: G:\\My Drive\\Data\\Voting Age Data Census 2018 5yr\\Notebooks"
   ]
  },
  {
   "cell_type": "code",
   "execution_count": 1,
   "metadata": {},
   "outputs": [],
   "source": [
    "from pathlib import Path\n",
    "import json\n",
    "import numpy as np\n",
    "import geopandas as gpd\n",
    "import matplotlib.pyplot as plt\n",
    "import matplotlib as mpl\n",
    "import pandas as pd\n",
    "import shapely\n",
    "import shapely.geometry as sg\n",
    "import folium\n",
    "import geojson\n",
    "import fiona\n",
    "import mapclassify\n",
    "\n",
    "import matplotlib.cm as cm, matplotlib.font_manager as fm\n",
    "from datetime import datetime as dt\n",
    "from shapely.geometry import Polygon\n",
    "from geopy.distance import great_circle\n",
    "from geopandas import GeoDataFrame\n",
    "import descartes\n",
    "import pysal\n",
    "\n",
    "%matplotlib inline"
   ]
  },
  {
   "cell_type": "markdown",
   "metadata": {},
   "source": [
    "##### Goal: convert a shapefile to geojson\n",
    "Steps:\n",
    " 1. read shapefile\n",
    " 2. convert shapefile to geojson\n",
    " 3. merge new geojson file with tabular data\n",
    " 4. export geo file with voter data"
   ]
  },
  {
   "cell_type": "markdown",
   "metadata": {},
   "source": [
    "### Read in a shapefile with geopandas  and create json file"
   ]
  },
  {
   "cell_type": "markdown",
   "metadata": {},
   "source": [
    "#### read in shapefile"
   ]
  },
  {
   "cell_type": "code",
   "execution_count": 2,
   "metadata": {},
   "outputs": [],
   "source": [
    "gdf_filea = gpd.read_file('G:\\My Drive\\Data\\CA Congress Dist 50\\Geo_Files\\Congress_Shapefile\\CA_Congress_Dist_50_CT.shp')"
   ]
  },
  {
   "cell_type": "markdown",
   "metadata": {},
   "source": [
    "#### create json file"
   ]
  },
  {
   "cell_type": "code",
   "execution_count": 3,
   "metadata": {},
   "outputs": [],
   "source": [
    "gdf_filea.to_file('G:\\My Drive\\Data\\CA Congress Dist 50\\Geo_Files\\CA_Congress.json', driver='GeoJSON')"
   ]
  },
  {
   "cell_type": "markdown",
   "metadata": {},
   "source": [
    "#### read in json file"
   ]
  },
  {
   "cell_type": "code",
   "execution_count": 4,
   "metadata": {},
   "outputs": [],
   "source": [
    "gdf_filea = gpd.read_file('G:\\My Drive\\Data\\CA Congress Dist 50\\Geo_Files\\CA_Congress.json')"
   ]
  },
  {
   "cell_type": "code",
   "execution_count": 5,
   "metadata": {},
   "outputs": [
    {
     "data": {
      "text/plain": [
       "geopandas.geodataframe.GeoDataFrame"
      ]
     },
     "execution_count": 5,
     "metadata": {},
     "output_type": "execute_result"
    }
   ],
   "source": [
    "type(gdf_filea)"
   ]
  },
  {
   "cell_type": "markdown",
   "metadata": {},
   "source": [
    "#### plot json file"
   ]
  },
  {
   "cell_type": "code",
   "execution_count": 6,
   "metadata": {},
   "outputs": [
    {
     "data": {
      "text/plain": [
       "<matplotlib.axes._subplots.AxesSubplot at 0x20c7e312c88>"
      ]
     },
     "execution_count": 6,
     "metadata": {},
     "output_type": "execute_result"
    },
    {
     "data": {
      "image/png": "[encoded data removed]",
      "text/plain": [
       "<Figure size 432x288 with 1 Axes>"
      ]
     },
     "metadata": {
      "needs_background": "light"
     },
     "output_type": "display_data"
    }
   ],
   "source": [
    "gdf_filea.plot()"
   ]
  },
  {
   "cell_type": "markdown",
   "metadata": {},
   "source": [
    "#### explicitly setting the index to geoid"
   ]
  },
  {
   "cell_type": "code",
   "execution_count": 7,
   "metadata": {},
   "outputs": [
    {
     "data": {
      "text/html": [
       "<div>\n",
       "<style scoped>\n",
       "    .dataframe tbody tr th:only-of-type {\n",
       "        vertical-align: middle;\n",
       "    }\n",
       "\n",
       "    .dataframe tbody tr th {\n",
       "        vertical-align: top;\n",
       "    }\n",
       "\n",
       "    .dataframe thead th {\n",
       "        text-align: right;\n",
       "    }\n",
       "</style>\n",
       "<table border=\"1\" class=\"dataframe\">\n",
       "  <thead>\n",
       "    <tr style=\"text-align: right;\">\n",
       "      <th></th>\n",
       "      <th>geometry</th>\n",
       "    </tr>\n",
       "    <tr>\n",
       "      <th>GEOID</th>\n",
       "      <th></th>\n",
       "    </tr>\n",
       "  </thead>\n",
       "  <tbody>\n",
       "    <tr>\n",
       "      <th>06065051200</th>\n",
       "      <td>MULTIPOLYGON (((-117.14876 33.47290, -117.1493...</td>\n",
       "    </tr>\n",
       "    <tr>\n",
       "      <th>06065049600</th>\n",
       "      <td>POLYGON ((-117.16311 33.52238, -117.16311 33.5...</td>\n",
       "    </tr>\n",
       "  </tbody>\n",
       "</table>\n",
       "</div>"
      ],
      "text/plain": [
       "                                                      geometry\n",
       "GEOID                                                         \n",
       "06065051200  MULTIPOLYGON (((-117.14876 33.47290, -117.1493...\n",
       "06065049600  POLYGON ((-117.16311 33.52238, -117.16311 33.5..."
      ]
     },
     "execution_count": 7,
     "metadata": {},
     "output_type": "execute_result"
    }
   ],
   "source": [
    "gdf_file = gdf_filea[['GEOID','geometry']].set_index('GEOID')\n",
    "gdf_file.head(2)"
   ]
  },
  {
   "cell_type": "markdown",
   "metadata": {},
   "source": [
    "##### Reading data for voters over 18, then merging this with the geodataframe. "
   ]
  },
  {
   "cell_type": "code",
   "execution_count": 8,
   "metadata": {
    "scrolled": false
   },
   "outputs": [
    {
     "data": {
      "text/html": [
       "<div>\n",
       "<style scoped>\n",
       "    .dataframe tbody tr th:only-of-type {\n",
       "        vertical-align: middle;\n",
       "    }\n",
       "\n",
       "    .dataframe tbody tr th {\n",
       "        vertical-align: top;\n",
       "    }\n",
       "\n",
       "    .dataframe thead th {\n",
       "        text-align: right;\n",
       "    }\n",
       "</style>\n",
       "<table border=\"1\" class=\"dataframe\">\n",
       "  <thead>\n",
       "    <tr style=\"text-align: right;\">\n",
       "      <th></th>\n",
       "      <th>GEOID</th>\n",
       "      <th>NAME</th>\n",
       "      <th>tot_ovr_18</th>\n",
       "      <th>tot_ovr_18_moe</th>\n",
       "      <th>tot_18_29</th>\n",
       "      <th>tot_18_29_moe</th>\n",
       "      <th>pct_18_29</th>\n",
       "      <th>pct_18_29_moe</th>\n",
       "      <th>tot_ovr_30</th>\n",
       "      <th>pct_ovr_30</th>\n",
       "      <th>Census Tract</th>\n",
       "      <th>County</th>\n",
       "    </tr>\n",
       "  </thead>\n",
       "  <tbody>\n",
       "    <tr>\n",
       "      <th>0</th>\n",
       "      <td>06065043216</td>\n",
       "      <td>Census Tract 432.16, Riverside County, California</td>\n",
       "      <td>4331</td>\n",
       "      <td>437</td>\n",
       "      <td>1343</td>\n",
       "      <td>366</td>\n",
       "      <td>31.0</td>\n",
       "      <td>6.9</td>\n",
       "      <td>2988</td>\n",
       "      <td>69.0</td>\n",
       "      <td>CT 432.16</td>\n",
       "      <td>Riverside</td>\n",
       "    </tr>\n",
       "  </tbody>\n",
       "</table>\n",
       "</div>"
      ],
      "text/plain": [
       "         GEOID                                               NAME  tot_ovr_18  \\\n",
       "0  06065043216  Census Tract 432.16, Riverside County, California        4331   \n",
       "\n",
       "   tot_ovr_18_moe  tot_18_29  tot_18_29_moe  pct_18_29  pct_18_29_moe  \\\n",
       "0             437       1343            366       31.0            6.9   \n",
       "\n",
       "   tot_ovr_30  pct_ovr_30 Census Tract     County  \n",
       "0        2988        69.0    CT 432.16  Riverside  "
      ]
     },
     "execution_count": 8,
     "metadata": {},
     "output_type": "execute_result"
    }
   ],
   "source": [
    "#specify datatypes so GEOID reads in properly\n",
    "variable_types = {'GEOID': 'str'}\n",
    "\n",
    "# reading in tabular data\n",
    "df_popa = pd.read_csv('G:\\My Drive\\Data\\Voting Age Data Census 2018 5yr\\Data_Exports\\eligible_voters_over_18.csv', delimiter = ',', dtype=variable_types)\n",
    "df_popa.head(1)\n"
   ]
  },
  {
   "cell_type": "markdown",
   "metadata": {},
   "source": [
    "#### Creating another df for viz at the end of the notebook"
   ]
  },
  {
   "cell_type": "code",
   "execution_count": 9,
   "metadata": {},
   "outputs": [
    {
     "data": {
      "text/html": [
       "<div>\n",
       "<style scoped>\n",
       "    .dataframe tbody tr th:only-of-type {\n",
       "        vertical-align: middle;\n",
       "    }\n",
       "\n",
       "    .dataframe tbody tr th {\n",
       "        vertical-align: top;\n",
       "    }\n",
       "\n",
       "    .dataframe thead th {\n",
       "        text-align: right;\n",
       "    }\n",
       "</style>\n",
       "<table border=\"1\" class=\"dataframe\">\n",
       "  <thead>\n",
       "    <tr style=\"text-align: right;\">\n",
       "      <th></th>\n",
       "      <th>GEOID</th>\n",
       "      <th>total_pop</th>\n",
       "      <th>pop_density</th>\n",
       "      <th>density_abv_average</th>\n",
       "    </tr>\n",
       "  </thead>\n",
       "  <tbody>\n",
       "    <tr>\n",
       "      <th>0</th>\n",
       "      <td>06065043216</td>\n",
       "      <td>6359</td>\n",
       "      <td>3215.163</td>\n",
       "      <td>0</td>\n",
       "    </tr>\n",
       "  </tbody>\n",
       "</table>\n",
       "</div>"
      ],
      "text/plain": [
       "         GEOID  total_pop  pop_density  density_abv_average\n",
       "0  06065043216       6359     3215.163                    0"
      ]
     },
     "execution_count": 9,
     "metadata": {},
     "output_type": "execute_result"
    }
   ],
   "source": [
    "#specify datatypes so GEOID reads in properly\n",
    "variable_types = {'GEOID': 'str'}\n",
    "\n",
    "# reading in tabular data\n",
    "df_density = pd.read_csv(r'G:\\My Drive\\Data\\Density 2017\\Data_Exports\\density.csv', delimiter = ',', dtype=variable_types)\n",
    "\n",
    "# pad a string with leading zeros.\n",
    "df_density['GEOID'] = df_density['GEOID'].str.zfill(11)\n",
    "\n",
    "#Dropping these columns \n",
    "df_density=df_density.drop(['Census Tract', 'County'], axis = 1)\n",
    "\n",
    "df_density.head(1)"
   ]
  },
  {
   "cell_type": "code",
   "execution_count": 10,
   "metadata": {},
   "outputs": [],
   "source": [
    "# Joining voting age data to density data\n",
    "df_voteage_den = pd.merge(df_density, df_popa, on='GEOID', how='inner')\n"
   ]
  },
  {
   "cell_type": "code",
   "execution_count": 11,
   "metadata": {
    "scrolled": true
   },
   "outputs": [
    {
     "data": {
      "text/html": [
       "<div>\n",
       "<style scoped>\n",
       "    .dataframe tbody tr th:only-of-type {\n",
       "        vertical-align: middle;\n",
       "    }\n",
       "\n",
       "    .dataframe tbody tr th {\n",
       "        vertical-align: top;\n",
       "    }\n",
       "\n",
       "    .dataframe thead th {\n",
       "        text-align: right;\n",
       "    }\n",
       "</style>\n",
       "<table border=\"1\" class=\"dataframe\">\n",
       "  <thead>\n",
       "    <tr style=\"text-align: right;\">\n",
       "      <th></th>\n",
       "      <th>GEOID</th>\n",
       "      <th>total_pop</th>\n",
       "      <th>pop_density</th>\n",
       "      <th>density_abv_average</th>\n",
       "      <th>NAME</th>\n",
       "      <th>tot_ovr_18</th>\n",
       "      <th>tot_ovr_18_moe</th>\n",
       "      <th>tot_18_29</th>\n",
       "      <th>tot_18_29_moe</th>\n",
       "      <th>pct_18_29</th>\n",
       "      <th>pct_18_29_moe</th>\n",
       "      <th>tot_ovr_30</th>\n",
       "      <th>pct_ovr_30</th>\n",
       "      <th>Census Tract</th>\n",
       "      <th>County</th>\n",
       "    </tr>\n",
       "  </thead>\n",
       "  <tbody>\n",
       "    <tr>\n",
       "      <th>0</th>\n",
       "      <td>06065043216</td>\n",
       "      <td>6359</td>\n",
       "      <td>3215.16300</td>\n",
       "      <td>0</td>\n",
       "      <td>Census Tract 432.16, Riverside County, California</td>\n",
       "      <td>4331</td>\n",
       "      <td>437</td>\n",
       "      <td>1343</td>\n",
       "      <td>366</td>\n",
       "      <td>31.0</td>\n",
       "      <td>6.9</td>\n",
       "      <td>2988</td>\n",
       "      <td>69.0</td>\n",
       "      <td>CT 432.16</td>\n",
       "      <td>Riverside</td>\n",
       "    </tr>\n",
       "    <tr>\n",
       "      <th>1</th>\n",
       "      <td>06065043218</td>\n",
       "      <td>5415</td>\n",
       "      <td>2814.28200</td>\n",
       "      <td>0</td>\n",
       "      <td>Census Tract 432.18, Riverside County, California</td>\n",
       "      <td>4002</td>\n",
       "      <td>338</td>\n",
       "      <td>959</td>\n",
       "      <td>221</td>\n",
       "      <td>24.0</td>\n",
       "      <td>4.4</td>\n",
       "      <td>3043</td>\n",
       "      <td>76.0</td>\n",
       "      <td>CT 432.18</td>\n",
       "      <td>Riverside</td>\n",
       "    </tr>\n",
       "    <tr>\n",
       "      <th>2</th>\n",
       "      <td>06065043220</td>\n",
       "      <td>4480</td>\n",
       "      <td>6523.11100</td>\n",
       "      <td>1</td>\n",
       "      <td>Census Tract 432.20, Riverside County, California</td>\n",
       "      <td>2970</td>\n",
       "      <td>300</td>\n",
       "      <td>952</td>\n",
       "      <td>252</td>\n",
       "      <td>32.1</td>\n",
       "      <td>6.4</td>\n",
       "      <td>2018</td>\n",
       "      <td>67.9</td>\n",
       "      <td>CT 432.20</td>\n",
       "      <td>Riverside</td>\n",
       "    </tr>\n",
       "    <tr>\n",
       "      <th>3</th>\n",
       "      <td>06065043222</td>\n",
       "      <td>4570</td>\n",
       "      <td>1353.67000</td>\n",
       "      <td>0</td>\n",
       "      <td>Census Tract 432.22, Riverside County, California</td>\n",
       "      <td>3591</td>\n",
       "      <td>275</td>\n",
       "      <td>552</td>\n",
       "      <td>147</td>\n",
       "      <td>15.4</td>\n",
       "      <td>3.8</td>\n",
       "      <td>3039</td>\n",
       "      <td>84.6</td>\n",
       "      <td>CT 432.22</td>\n",
       "      <td>Riverside</td>\n",
       "    </tr>\n",
       "    <tr>\n",
       "      <th>4</th>\n",
       "      <td>06065043246</td>\n",
       "      <td>5706</td>\n",
       "      <td>1140.14600</td>\n",
       "      <td>0</td>\n",
       "      <td>Census Tract 432.46, Riverside County, California</td>\n",
       "      <td>4145</td>\n",
       "      <td>393</td>\n",
       "      <td>767</td>\n",
       "      <td>200</td>\n",
       "      <td>18.5</td>\n",
       "      <td>3.6</td>\n",
       "      <td>3378</td>\n",
       "      <td>81.5</td>\n",
       "      <td>CT 432.46</td>\n",
       "      <td>Riverside</td>\n",
       "    </tr>\n",
       "    <tr>\n",
       "      <th>...</th>\n",
       "      <td>...</td>\n",
       "      <td>...</td>\n",
       "      <td>...</td>\n",
       "      <td>...</td>\n",
       "      <td>...</td>\n",
       "      <td>...</td>\n",
       "      <td>...</td>\n",
       "      <td>...</td>\n",
       "      <td>...</td>\n",
       "      <td>...</td>\n",
       "      <td>...</td>\n",
       "      <td>...</td>\n",
       "      <td>...</td>\n",
       "      <td>...</td>\n",
       "      <td>...</td>\n",
       "    </tr>\n",
       "    <tr>\n",
       "      <th>154</th>\n",
       "      <td>06073021205</td>\n",
       "      <td>7073</td>\n",
       "      <td>1844.53100</td>\n",
       "      <td>0</td>\n",
       "      <td>Census Tract 212.05, San Diego County, California</td>\n",
       "      <td>5225</td>\n",
       "      <td>611</td>\n",
       "      <td>1287</td>\n",
       "      <td>426</td>\n",
       "      <td>24.6</td>\n",
       "      <td>6.4</td>\n",
       "      <td>3938</td>\n",
       "      <td>75.4</td>\n",
       "      <td>CT 212.05</td>\n",
       "      <td>San Diego</td>\n",
       "    </tr>\n",
       "    <tr>\n",
       "      <th>155</th>\n",
       "      <td>06073021206</td>\n",
       "      <td>3065</td>\n",
       "      <td>187.84120</td>\n",
       "      <td>0</td>\n",
       "      <td>Census Tract 212.06, San Diego County, California</td>\n",
       "      <td>2505</td>\n",
       "      <td>219</td>\n",
       "      <td>286</td>\n",
       "      <td>111</td>\n",
       "      <td>11.4</td>\n",
       "      <td>4.1</td>\n",
       "      <td>2219</td>\n",
       "      <td>88.6</td>\n",
       "      <td>CT 212.06</td>\n",
       "      <td>San Diego</td>\n",
       "    </tr>\n",
       "    <tr>\n",
       "      <th>156</th>\n",
       "      <td>06073021302</td>\n",
       "      <td>7738</td>\n",
       "      <td>53.09579</td>\n",
       "      <td>0</td>\n",
       "      <td>Census Tract 213.02, San Diego County, California</td>\n",
       "      <td>6147</td>\n",
       "      <td>555</td>\n",
       "      <td>1643</td>\n",
       "      <td>297</td>\n",
       "      <td>26.7</td>\n",
       "      <td>3.4</td>\n",
       "      <td>4504</td>\n",
       "      <td>73.3</td>\n",
       "      <td>CT 213.02</td>\n",
       "      <td>San Diego</td>\n",
       "    </tr>\n",
       "    <tr>\n",
       "      <th>157</th>\n",
       "      <td>06073021303</td>\n",
       "      <td>9497</td>\n",
       "      <td>319.79820</td>\n",
       "      <td>0</td>\n",
       "      <td>Census Tract 213.03, San Diego County, California</td>\n",
       "      <td>6304</td>\n",
       "      <td>637</td>\n",
       "      <td>775</td>\n",
       "      <td>286</td>\n",
       "      <td>12.3</td>\n",
       "      <td>3.9</td>\n",
       "      <td>5529</td>\n",
       "      <td>87.7</td>\n",
       "      <td>CT 213.03</td>\n",
       "      <td>San Diego</td>\n",
       "    </tr>\n",
       "    <tr>\n",
       "      <th>158</th>\n",
       "      <td>06073021304</td>\n",
       "      <td>2508</td>\n",
       "      <td>80.99509</td>\n",
       "      <td>0</td>\n",
       "      <td>Census Tract 213.04, San Diego County, California</td>\n",
       "      <td>2154</td>\n",
       "      <td>163</td>\n",
       "      <td>363</td>\n",
       "      <td>59</td>\n",
       "      <td>16.9</td>\n",
       "      <td>2.8</td>\n",
       "      <td>1791</td>\n",
       "      <td>83.1</td>\n",
       "      <td>CT 213.04</td>\n",
       "      <td>San Diego</td>\n",
       "    </tr>\n",
       "  </tbody>\n",
       "</table>\n",
       "<p>159 rows × 15 columns</p>\n",
       "</div>"
      ],
      "text/plain": [
       "           GEOID  total_pop  pop_density  density_abv_average  \\\n",
       "0    06065043216       6359   3215.16300                    0   \n",
       "1    06065043218       5415   2814.28200                    0   \n",
       "2    06065043220       4480   6523.11100                    1   \n",
       "3    06065043222       4570   1353.67000                    0   \n",
       "4    06065043246       5706   1140.14600                    0   \n",
       "..           ...        ...          ...                  ...   \n",
       "154  06073021205       7073   1844.53100                    0   \n",
       "155  06073021206       3065    187.84120                    0   \n",
       "156  06073021302       7738     53.09579                    0   \n",
       "157  06073021303       9497    319.79820                    0   \n",
       "158  06073021304       2508     80.99509                    0   \n",
       "\n",
       "                                                  NAME  tot_ovr_18  \\\n",
       "0    Census Tract 432.16, Riverside County, California        4331   \n",
       "1    Census Tract 432.18, Riverside County, California        4002   \n",
       "2    Census Tract 432.20, Riverside County, California        2970   \n",
       "3    Census Tract 432.22, Riverside County, California        3591   \n",
       "4    Census Tract 432.46, Riverside County, California        4145   \n",
       "..                                                 ...         ...   \n",
       "154  Census Tract 212.05, San Diego County, California        5225   \n",
       "155  Census Tract 212.06, San Diego County, California        2505   \n",
       "156  Census Tract 213.02, San Diego County, California        6147   \n",
       "157  Census Tract 213.03, San Diego County, California        6304   \n",
       "158  Census Tract 213.04, San Diego County, California        2154   \n",
       "\n",
       "     tot_ovr_18_moe  tot_18_29  tot_18_29_moe  pct_18_29  pct_18_29_moe  \\\n",
       "0               437       1343            366       31.0            6.9   \n",
       "1               338        959            221       24.0            4.4   \n",
       "2               300        952            252       32.1            6.4   \n",
       "3               275        552            147       15.4            3.8   \n",
       "4               393        767            200       18.5            3.6   \n",
       "..              ...        ...            ...        ...            ...   \n",
       "154             611       1287            426       24.6            6.4   \n",
       "155             219        286            111       11.4            4.1   \n",
       "156             555       1643            297       26.7            3.4   \n",
       "157             637        775            286       12.3            3.9   \n",
       "158             163        363             59       16.9            2.8   \n",
       "\n",
       "     tot_ovr_30  pct_ovr_30 Census Tract     County  \n",
       "0          2988        69.0    CT 432.16  Riverside  \n",
       "1          3043        76.0    CT 432.18  Riverside  \n",
       "2          2018        67.9    CT 432.20  Riverside  \n",
       "3          3039        84.6    CT 432.22  Riverside  \n",
       "4          3378        81.5    CT 432.46  Riverside  \n",
       "..          ...         ...          ...        ...  \n",
       "154        3938        75.4    CT 212.05  San Diego  \n",
       "155        2219        88.6    CT 212.06  San Diego  \n",
       "156        4504        73.3    CT 213.02  San Diego  \n",
       "157        5529        87.7    CT 213.03  San Diego  \n",
       "158        1791        83.1    CT 213.04  San Diego  \n",
       "\n",
       "[159 rows x 15 columns]"
      ]
     },
     "execution_count": 11,
     "metadata": {},
     "output_type": "execute_result"
    }
   ],
   "source": [
    "df_voteage_den"
   ]
  },
  {
   "cell_type": "code",
   "execution_count": 12,
   "metadata": {
    "scrolled": true
   },
   "outputs": [
    {
     "data": {
      "text/html": [
       "<div>\n",
       "<style scoped>\n",
       "    .dataframe tbody tr th:only-of-type {\n",
       "        vertical-align: middle;\n",
       "    }\n",
       "\n",
       "    .dataframe tbody tr th {\n",
       "        vertical-align: top;\n",
       "    }\n",
       "\n",
       "    .dataframe thead th {\n",
       "        text-align: right;\n",
       "    }\n",
       "</style>\n",
       "<table border=\"1\" class=\"dataframe\">\n",
       "  <thead>\n",
       "    <tr style=\"text-align: right;\">\n",
       "      <th></th>\n",
       "      <th>GEOID</th>\n",
       "      <th>total_pop</th>\n",
       "      <th>pop_density</th>\n",
       "      <th>density_abv_average</th>\n",
       "      <th>tot_ovr_18</th>\n",
       "      <th>tot_ovr_18_moe</th>\n",
       "      <th>tot_18_29</th>\n",
       "      <th>tot_18_29_moe</th>\n",
       "      <th>pct_18_29</th>\n",
       "      <th>pct_18_29_moe</th>\n",
       "      <th>tot_ovr_30</th>\n",
       "      <th>pct_ovr_30</th>\n",
       "      <th>Census Tract</th>\n",
       "      <th>County</th>\n",
       "      <th>pct_of_voters</th>\n",
       "    </tr>\n",
       "  </thead>\n",
       "  <tbody>\n",
       "    <tr>\n",
       "      <th>0</th>\n",
       "      <td>06065043216</td>\n",
       "      <td>6359</td>\n",
       "      <td>3215.163</td>\n",
       "      <td>0</td>\n",
       "      <td>4331</td>\n",
       "      <td>437</td>\n",
       "      <td>1343</td>\n",
       "      <td>366</td>\n",
       "      <td>31.0</td>\n",
       "      <td>6.9</td>\n",
       "      <td>2988</td>\n",
       "      <td>69.0</td>\n",
       "      <td>CT 432.16</td>\n",
       "      <td>Riverside</td>\n",
       "      <td>68.108193</td>\n",
       "    </tr>\n",
       "    <tr>\n",
       "      <th>1</th>\n",
       "      <td>06065043218</td>\n",
       "      <td>5415</td>\n",
       "      <td>2814.282</td>\n",
       "      <td>0</td>\n",
       "      <td>4002</td>\n",
       "      <td>338</td>\n",
       "      <td>959</td>\n",
       "      <td>221</td>\n",
       "      <td>24.0</td>\n",
       "      <td>4.4</td>\n",
       "      <td>3043</td>\n",
       "      <td>76.0</td>\n",
       "      <td>CT 432.18</td>\n",
       "      <td>Riverside</td>\n",
       "      <td>73.905817</td>\n",
       "    </tr>\n",
       "  </tbody>\n",
       "</table>\n",
       "</div>"
      ],
      "text/plain": [
       "         GEOID  total_pop  pop_density  density_abv_average  tot_ovr_18  \\\n",
       "0  06065043216       6359     3215.163                    0        4331   \n",
       "1  06065043218       5415     2814.282                    0        4002   \n",
       "\n",
       "   tot_ovr_18_moe  tot_18_29  tot_18_29_moe  pct_18_29  pct_18_29_moe  \\\n",
       "0             437       1343            366       31.0            6.9   \n",
       "1             338        959            221       24.0            4.4   \n",
       "\n",
       "   tot_ovr_30  pct_ovr_30 Census Tract     County  pct_of_voters  \n",
       "0        2988        69.0    CT 432.16  Riverside      68.108193  \n",
       "1        3043        76.0    CT 432.18  Riverside      73.905817  "
      ]
     },
     "execution_count": 12,
     "metadata": {},
     "output_type": "execute_result"
    }
   ],
   "source": [
    "# Joining voting age data to density data\n",
    "df_voteage_den['pct_of_voters'] = df_voteage_den['tot_ovr_18'] / df_voteage_den['total_pop'] * 100\n",
    "\n",
    "#Dropping these columns \n",
    "df_voteage_den=df_voteage_den.drop(['NAME'], axis = 1)\n",
    "\n",
    "df_popa = df_voteage_den\n",
    "df_popa.head(2)"
   ]
  },
  {
   "cell_type": "markdown",
   "metadata": {},
   "source": [
    "#### explicitly setting the index to geoid"
   ]
  },
  {
   "cell_type": "code",
   "execution_count": 13,
   "metadata": {},
   "outputs": [],
   "source": [
    "df_pop = df_popa.set_index('GEOID')"
   ]
  },
  {
   "cell_type": "markdown",
   "metadata": {},
   "source": [
    "### Joining the geodataframe to tabular data"
   ]
  },
  {
   "cell_type": "markdown",
   "metadata": {},
   "source": [
    "###### Attribute joins are accomplished using the merge method. In general, it is recommended to use the merge method called from the spatial dataset. With that said, the stand-alone merge function will work if the GeoDataFrame is in the left argument; if a DataFrame is in the left argument and a GeoDataFrame is in the right position, the result will no longer be a GeoDataFrame."
   ]
  },
  {
   "cell_type": "markdown",
   "metadata": {},
   "source": [
    "##### example:  new_gpdf = country_shapes.merge(country_names, on='key')"
   ]
  },
  {
   "cell_type": "code",
   "execution_count": 14,
   "metadata": {},
   "outputs": [],
   "source": [
    "# Joining voter data to geodataframe\n",
    "gdf_w_voter = gdf_file.merge( df_pop, on='GEOID')\n"
   ]
  },
  {
   "cell_type": "code",
   "execution_count": 15,
   "metadata": {
    "scrolled": true
   },
   "outputs": [
    {
     "data": {
      "text/html": [
       "<div>\n",
       "<style scoped>\n",
       "    .dataframe tbody tr th:only-of-type {\n",
       "        vertical-align: middle;\n",
       "    }\n",
       "\n",
       "    .dataframe tbody tr th {\n",
       "        vertical-align: top;\n",
       "    }\n",
       "\n",
       "    .dataframe thead th {\n",
       "        text-align: right;\n",
       "    }\n",
       "</style>\n",
       "<table border=\"1\" class=\"dataframe\">\n",
       "  <thead>\n",
       "    <tr style=\"text-align: right;\">\n",
       "      <th></th>\n",
       "      <th>geometry</th>\n",
       "      <th>total_pop</th>\n",
       "      <th>pop_density</th>\n",
       "      <th>density_abv_average</th>\n",
       "      <th>tot_ovr_18</th>\n",
       "      <th>tot_ovr_18_moe</th>\n",
       "      <th>tot_18_29</th>\n",
       "      <th>tot_18_29_moe</th>\n",
       "      <th>pct_18_29</th>\n",
       "      <th>pct_18_29_moe</th>\n",
       "      <th>tot_ovr_30</th>\n",
       "      <th>pct_ovr_30</th>\n",
       "      <th>Census Tract</th>\n",
       "      <th>County</th>\n",
       "      <th>pct_of_voters</th>\n",
       "    </tr>\n",
       "    <tr>\n",
       "      <th>GEOID</th>\n",
       "      <th></th>\n",
       "      <th></th>\n",
       "      <th></th>\n",
       "      <th></th>\n",
       "      <th></th>\n",
       "      <th></th>\n",
       "      <th></th>\n",
       "      <th></th>\n",
       "      <th></th>\n",
       "      <th></th>\n",
       "      <th></th>\n",
       "      <th></th>\n",
       "      <th></th>\n",
       "      <th></th>\n",
       "      <th></th>\n",
       "    </tr>\n",
       "  </thead>\n",
       "  <tbody>\n",
       "    <tr>\n",
       "      <th>06065051200</th>\n",
       "      <td>MULTIPOLYGON (((-117.14876 33.47290, -117.1493...</td>\n",
       "      <td>4002</td>\n",
       "      <td>162.4045</td>\n",
       "      <td>0</td>\n",
       "      <td>2856</td>\n",
       "      <td>333</td>\n",
       "      <td>849</td>\n",
       "      <td>293</td>\n",
       "      <td>29.7</td>\n",
       "      <td>7.7</td>\n",
       "      <td>2007</td>\n",
       "      <td>70.3</td>\n",
       "      <td>CT 512</td>\n",
       "      <td>Riverside</td>\n",
       "      <td>71.364318</td>\n",
       "    </tr>\n",
       "  </tbody>\n",
       "</table>\n",
       "</div>"
      ],
      "text/plain": [
       "                                                      geometry  total_pop  \\\n",
       "GEOID                                                                       \n",
       "06065051200  MULTIPOLYGON (((-117.14876 33.47290, -117.1493...       4002   \n",
       "\n",
       "             pop_density  density_abv_average  tot_ovr_18  tot_ovr_18_moe  \\\n",
       "GEOID                                                                       \n",
       "06065051200     162.4045                    0        2856             333   \n",
       "\n",
       "             tot_18_29  tot_18_29_moe  pct_18_29  pct_18_29_moe  tot_ovr_30  \\\n",
       "GEOID                                                                         \n",
       "06065051200        849            293       29.7            7.7        2007   \n",
       "\n",
       "             pct_ovr_30 Census Tract     County  pct_of_voters  \n",
       "GEOID                                                           \n",
       "06065051200        70.3       CT 512  Riverside      71.364318  "
      ]
     },
     "execution_count": 15,
     "metadata": {},
     "output_type": "execute_result"
    }
   ],
   "source": [
    "# # save file as csv with data and geo\n",
    "gdf_w_voter.to_csv(r'G:\\My Drive\\Data\\Voting Age Data Census 2018 5yr\\Data_Exports\\voter_w_geo.csv')\n",
    "\n",
    "gdf_w_voter.head(1)"
   ]
  },
  {
   "cell_type": "markdown",
   "metadata": {},
   "source": [
    "#### create json file"
   ]
  },
  {
   "cell_type": "code",
   "execution_count": 16,
   "metadata": {},
   "outputs": [],
   "source": [
    "gdf_w_voter.to_file('G:\\My Drive\\Data\\Voting Age Data Census 2018 5yr\\Geo_Files\\CA_50_w_voter_dat.json', driver='GeoJSON')"
   ]
  },
  {
   "cell_type": "markdown",
   "metadata": {},
   "source": [
    "#### read in json file"
   ]
  },
  {
   "cell_type": "code",
   "execution_count": 17,
   "metadata": {},
   "outputs": [],
   "source": [
    "gdf_w_voter = gpd.read_file('G:\\My Drive\\Data\\Voting Age Data Census 2018 5yr\\Geo_Files\\CA_50_w_voter_dat.json')"
   ]
  },
  {
   "cell_type": "code",
   "execution_count": 18,
   "metadata": {},
   "outputs": [
    {
     "data": {
      "text/plain": [
       "geopandas.geodataframe.GeoDataFrame"
      ]
     },
     "execution_count": 18,
     "metadata": {},
     "output_type": "execute_result"
    }
   ],
   "source": [
    "type(gdf_filea)"
   ]
  },
  {
   "cell_type": "markdown",
   "metadata": {},
   "source": [
    "#### plot json file"
   ]
  },
  {
   "cell_type": "code",
   "execution_count": 19,
   "metadata": {},
   "outputs": [
    {
     "data": {
      "text/plain": [
       "<matplotlib.axes._subplots.AxesSubplot at 0x20c7e290908>"
      ]
     },
     "execution_count": 19,
     "metadata": {},
     "output_type": "execute_result"
    },
    {
     "data": {
      "image/png": "[encoded data removed]",
      "text/plain": [
       "<Figure size 432x288 with 1 Axes>"
      ]
     },
     "metadata": {
      "needs_background": "light"
     },
     "output_type": "display_data"
    }
   ],
   "source": [
    "gdf_w_voter.plot()"
   ]
  },
  {
   "cell_type": "code",
   "execution_count": 20,
   "metadata": {},
   "outputs": [
    {
     "data": {
      "text/html": [
       "<div>\n",
       "<style scoped>\n",
       "    .dataframe tbody tr th:only-of-type {\n",
       "        vertical-align: middle;\n",
       "    }\n",
       "\n",
       "    .dataframe tbody tr th {\n",
       "        vertical-align: top;\n",
       "    }\n",
       "\n",
       "    .dataframe thead th {\n",
       "        text-align: right;\n",
       "    }\n",
       "</style>\n",
       "<table border=\"1\" class=\"dataframe\">\n",
       "  <thead>\n",
       "    <tr style=\"text-align: right;\">\n",
       "      <th></th>\n",
       "      <th>GEOID</th>\n",
       "      <th>total_pop</th>\n",
       "      <th>pop_density</th>\n",
       "      <th>density_abv_average</th>\n",
       "      <th>tot_ovr_18</th>\n",
       "      <th>tot_ovr_18_moe</th>\n",
       "      <th>tot_18_29</th>\n",
       "      <th>tot_18_29_moe</th>\n",
       "      <th>pct_18_29</th>\n",
       "      <th>pct_18_29_moe</th>\n",
       "      <th>tot_ovr_30</th>\n",
       "      <th>pct_ovr_30</th>\n",
       "      <th>Census Tract</th>\n",
       "      <th>County</th>\n",
       "      <th>pct_of_voters</th>\n",
       "      <th>geometry</th>\n",
       "    </tr>\n",
       "  </thead>\n",
       "  <tbody>\n",
       "    <tr>\n",
       "      <th>0</th>\n",
       "      <td>06065051200</td>\n",
       "      <td>4002</td>\n",
       "      <td>162.4045</td>\n",
       "      <td>0</td>\n",
       "      <td>2856</td>\n",
       "      <td>333</td>\n",
       "      <td>849</td>\n",
       "      <td>293</td>\n",
       "      <td>29.7</td>\n",
       "      <td>7.7</td>\n",
       "      <td>2007</td>\n",
       "      <td>70.3</td>\n",
       "      <td>CT 512</td>\n",
       "      <td>Riverside</td>\n",
       "      <td>71.364318</td>\n",
       "      <td>MULTIPOLYGON (((-117.14876 33.47290, -117.1493...</td>\n",
       "    </tr>\n",
       "    <tr>\n",
       "      <th>1</th>\n",
       "      <td>06065049600</td>\n",
       "      <td>8407</td>\n",
       "      <td>5654.9680</td>\n",
       "      <td>1</td>\n",
       "      <td>5174</td>\n",
       "      <td>391</td>\n",
       "      <td>993</td>\n",
       "      <td>232</td>\n",
       "      <td>19.2</td>\n",
       "      <td>3.9</td>\n",
       "      <td>4181</td>\n",
       "      <td>80.8</td>\n",
       "      <td>CT 496</td>\n",
       "      <td>Riverside</td>\n",
       "      <td>61.543951</td>\n",
       "      <td>POLYGON ((-117.16311 33.52238, -117.16311 33.5...</td>\n",
       "    </tr>\n",
       "  </tbody>\n",
       "</table>\n",
       "</div>"
      ],
      "text/plain": [
       "         GEOID  total_pop  pop_density  density_abv_average  tot_ovr_18  \\\n",
       "0  06065051200       4002     162.4045                    0        2856   \n",
       "1  06065049600       8407    5654.9680                    1        5174   \n",
       "\n",
       "   tot_ovr_18_moe  tot_18_29  tot_18_29_moe  pct_18_29  pct_18_29_moe  \\\n",
       "0             333        849            293       29.7            7.7   \n",
       "1             391        993            232       19.2            3.9   \n",
       "\n",
       "   tot_ovr_30  pct_ovr_30 Census Tract     County  pct_of_voters  \\\n",
       "0        2007        70.3       CT 512  Riverside      71.364318   \n",
       "1        4181        80.8       CT 496  Riverside      61.543951   \n",
       "\n",
       "                                            geometry  \n",
       "0  MULTIPOLYGON (((-117.14876 33.47290, -117.1493...  \n",
       "1  POLYGON ((-117.16311 33.52238, -117.16311 33.5...  "
      ]
     },
     "execution_count": 20,
     "metadata": {},
     "output_type": "execute_result"
    }
   ],
   "source": [
    "gdf_w_voter.head(2)"
   ]
  },
  {
   "cell_type": "code",
   "execution_count": 21,
   "metadata": {},
   "outputs": [],
   "source": [
    "df_subset = gdf_w_voter[['total_pop', 'pop_density', 'pct_18_29', 'pct_ovr_30','pct_of_voters',]]"
   ]
  },
  {
   "cell_type": "code",
   "execution_count": 22,
   "metadata": {},
   "outputs": [
    {
     "data": {
      "text/plain": [
       "Index(['GEOID', 'total_pop', 'pop_density', 'density_abv_average',\n",
       "       'tot_ovr_18', 'tot_ovr_18_moe', 'tot_18_29', 'tot_18_29_moe',\n",
       "       'pct_18_29', 'pct_18_29_moe', 'tot_ovr_30', 'pct_ovr_30',\n",
       "       'Census Tract', 'County', 'pct_of_voters', 'geometry'],\n",
       "      dtype='object')"
      ]
     },
     "execution_count": 22,
     "metadata": {},
     "output_type": "execute_result"
    }
   ],
   "source": [
    "gdf_w_voter.columns"
   ]
  },
  {
   "cell_type": "code",
   "execution_count": 23,
   "metadata": {},
   "outputs": [
    {
     "data": {
      "text/html": [
       "<div>\n",
       "<style scoped>\n",
       "    .dataframe tbody tr th:only-of-type {\n",
       "        vertical-align: middle;\n",
       "    }\n",
       "\n",
       "    .dataframe tbody tr th {\n",
       "        vertical-align: top;\n",
       "    }\n",
       "\n",
       "    .dataframe thead th {\n",
       "        text-align: right;\n",
       "    }\n",
       "</style>\n",
       "<table border=\"1\" class=\"dataframe\">\n",
       "  <thead>\n",
       "    <tr style=\"text-align: right;\">\n",
       "      <th></th>\n",
       "      <th>total_pop</th>\n",
       "      <th>pop_density</th>\n",
       "      <th>pct_18_29</th>\n",
       "      <th>pct_ovr_30</th>\n",
       "      <th>pct_of_voters</th>\n",
       "    </tr>\n",
       "  </thead>\n",
       "  <tbody>\n",
       "    <tr>\n",
       "      <th>count</th>\n",
       "      <td>159.000000</td>\n",
       "      <td>159.000000</td>\n",
       "      <td>159.000000</td>\n",
       "      <td>159.000000</td>\n",
       "      <td>159.000000</td>\n",
       "    </tr>\n",
       "    <tr>\n",
       "      <th>mean</th>\n",
       "      <td>5927.817610</td>\n",
       "      <td>4519.023514</td>\n",
       "      <td>22.481132</td>\n",
       "      <td>77.518868</td>\n",
       "      <td>68.873039</td>\n",
       "    </tr>\n",
       "    <tr>\n",
       "      <th>std</th>\n",
       "      <td>3590.341156</td>\n",
       "      <td>5398.962128</td>\n",
       "      <td>9.571127</td>\n",
       "      <td>9.571127</td>\n",
       "      <td>11.454098</td>\n",
       "    </tr>\n",
       "    <tr>\n",
       "      <th>min</th>\n",
       "      <td>1600.000000</td>\n",
       "      <td>3.247912</td>\n",
       "      <td>7.700000</td>\n",
       "      <td>16.900000</td>\n",
       "      <td>24.218230</td>\n",
       "    </tr>\n",
       "    <tr>\n",
       "      <th>25%</th>\n",
       "      <td>4008.000000</td>\n",
       "      <td>587.000950</td>\n",
       "      <td>16.750000</td>\n",
       "      <td>73.200000</td>\n",
       "      <td>63.890626</td>\n",
       "    </tr>\n",
       "    <tr>\n",
       "      <th>50%</th>\n",
       "      <td>5599.000000</td>\n",
       "      <td>3085.665000</td>\n",
       "      <td>20.700000</td>\n",
       "      <td>79.300000</td>\n",
       "      <td>71.634911</td>\n",
       "    </tr>\n",
       "    <tr>\n",
       "      <th>75%</th>\n",
       "      <td>7143.500000</td>\n",
       "      <td>5889.834500</td>\n",
       "      <td>26.800000</td>\n",
       "      <td>83.250000</td>\n",
       "      <td>75.154329</td>\n",
       "    </tr>\n",
       "    <tr>\n",
       "      <th>max</th>\n",
       "      <td>40402.000000</td>\n",
       "      <td>30085.250000</td>\n",
       "      <td>83.100000</td>\n",
       "      <td>92.300000</td>\n",
       "      <td>94.010152</td>\n",
       "    </tr>\n",
       "  </tbody>\n",
       "</table>\n",
       "</div>"
      ],
      "text/plain": [
       "          total_pop   pop_density   pct_18_29  pct_ovr_30  pct_of_voters\n",
       "count    159.000000    159.000000  159.000000  159.000000     159.000000\n",
       "mean    5927.817610   4519.023514   22.481132   77.518868      68.873039\n",
       "std     3590.341156   5398.962128    9.571127    9.571127      11.454098\n",
       "min     1600.000000      3.247912    7.700000   16.900000      24.218230\n",
       "25%     4008.000000    587.000950   16.750000   73.200000      63.890626\n",
       "50%     5599.000000   3085.665000   20.700000   79.300000      71.634911\n",
       "75%     7143.500000   5889.834500   26.800000   83.250000      75.154329\n",
       "max    40402.000000  30085.250000   83.100000   92.300000      94.010152"
      ]
     },
     "execution_count": 23,
     "metadata": {},
     "output_type": "execute_result"
    }
   ],
   "source": [
    "df_subset.describe()"
   ]
  },
  {
   "cell_type": "code",
   "execution_count": 24,
   "metadata": {},
   "outputs": [
    {
     "data": {
      "image/png": "[encoded data removed]",
      "text/plain": [
       "<Figure size 360x324 with 2 Axes>"
      ]
     },
     "metadata": {
      "needs_background": "light"
     },
     "output_type": "display_data"
    }
   ],
   "source": [
    "\n",
    "fig, ax = plt.subplots(1, figsize=(5, 4.5))\n",
    "ax.axis('off')\n",
    "\n",
    "cmap = mpl.colors.LinearSegmentedColormap.from_list(\n",
    "    'Custom cmap', [\"#FFFFFF\", \"#D6D1E2\", \"#AEA3C4\", \"#8575A8\", \"#5D478B\"], 5)\n",
    "\n",
    "gdf_w_voter.plot(cmap=cmap, scheme='quantiles', ax=ax, column='pct_18_29', linewidth=0.3, edgecolor='0.8')\n",
    "\n",
    "# The tick marks we want for our map.  We'll pull these directly from the mapclassify code.\n",
    "bounds = list(mapclassify.Quantiles(gdf_w_voter['pct_18_29'], k=5).bins)\n",
    "\n",
    "# This controls how the colors are scaled using the above bounds\n",
    "norm = mpl.colors.BoundaryNorm(bounds, cmap.N, clip=True)\n",
    "\n",
    "# This sets where the colorbar goes and its size\n",
    "cbax = fig.add_axes([.35, .85, 0.525, 0.02])\n",
    "\n",
    "cb2 = mpl.colorbar.ColorbarBase(cbax, cmap=cmap, norm=norm, ticks=bounds, orientation='horizontal')\n",
    "\n",
    "cb2.set_label(r'% of voters 18-29, quantiles')\n",
    "cb2.ax.xaxis.set_label_position('bottom')\n",
    "cb2.ax.xaxis.label.set_multialignment('left')\n",
    "plt.setp(plt.getp(cb2.ax.axes, 'xticklabels'), fontsize='small')\n",
    "\n",
    "# add a title\n",
    "fig.suptitle('Percentage of voters 18-29', fontsize=18, fontweight= 3)\n",
    "\n",
    "# add a footnote\n",
    "plt.figtext(.2, .08, r'Figure 4.'  + \"\\n\" +  'Voting age population, ACS 5-Year Estimates 2014-2018, '  + \"\\n\" +  'Table: S2902.',\n",
    "             ha='left', va='bottom', fontsize=9)\n",
    "\n",
    "#this will save the figure as a high-res png. you can also save as svg\n",
    "fig.savefig(r'G:\\My Drive\\Data\\CA Congressional District_Compilation\\Graphs\\GoogleDoc_18_29_and_over.png', \n",
    "            bbox_inches='tight',pad_inches=0.1, dpi=200)"
   ]
  },
  {
   "cell_type": "code",
   "execution_count": 25,
   "metadata": {},
   "outputs": [
    {
     "data": {
      "image/png": "[encoded data removed]",
      "text/plain": [
       "<Figure size 360x324 with 2 Axes>"
      ]
     },
     "metadata": {
      "needs_background": "light"
     },
     "output_type": "display_data"
    }
   ],
   "source": [
    "\n",
    "fig, ax = plt.subplots(1, figsize=(5, 4.5))\n",
    "ax.axis('off')\n",
    "\n",
    "cmap = mpl.colors.LinearSegmentedColormap.from_list(\n",
    "    'Custom cmap', [\"#FFFFFF\", \"#D6D1E2\", \"#AEA3C4\", \"#8575A8\", \"#5D478B\"], 5)\n",
    "\n",
    "gdf_w_voter.plot(cmap=cmap, scheme='quantiles', ax=ax, column='pct_of_voters', linewidth=0.3, edgecolor='0.8')\n",
    "\n",
    "# The tick marks we want for our map.  We'll pull these directly from the mapclassify code.\n",
    "bounds = list(mapclassify.Quantiles(gdf_w_voter['pct_of_voters'], k=5).bins)\n",
    "\n",
    "# This controls how the colors are scaled using the above bounds\n",
    "norm = mpl.colors.BoundaryNorm(bounds, cmap.N, clip=True)\n",
    "\n",
    "# This sets where the colorbar goes and its size\n",
    "cbax = fig.add_axes([.35, .85, 0.525, 0.02])\n",
    "\n",
    "cb2 = mpl.colorbar.ColorbarBase(cbax, cmap=cmap, norm=norm, ticks=bounds, orientation='horizontal')\n",
    "\n",
    "cb2.set_label(r'Percentage of all voters, quantiles')\n",
    "cb2.ax.xaxis.set_label_position('bottom')\n",
    "cb2.ax.xaxis.label.set_multialignment('left')\n",
    "plt.setp(plt.getp(cb2.ax.axes, 'xticklabels'), fontsize='small')\n",
    "\n",
    "# add a title\n",
    "fig.suptitle('Concentration of all Eligible Voters', fontsize=18, fontweight= 3)\n",
    "\n",
    "# add a footnote\n",
    "plt.figtext(.2, .08, r'Figure 5.'  + '\\n' +  'Sources: Voting age population, ACS 5-Year '  + '\\n' +   \n",
    "            'Estimates 2014-2018, Table: S2902.' + '\\n' +   'Population Density, ACS 2013-2017 5-Year Estimates', ha='left', va='bottom', fontsize=9)\n",
    "\n",
    "#this will save the figure as a high-res png. you can also save as svg\n",
    "fig.savefig(r'G:\\My Drive\\Data\\CA Congressional District_Compilation\\Graphs\\GoogleDoc_Eligible_voters.png', \n",
    "            bbox_inches='tight',pad_inches=0.1, dpi=200)"
   ]
  },
  {
   "cell_type": "code",
   "execution_count": 26,
   "metadata": {
    "scrolled": true
   },
   "outputs": [
    {
     "data": {
      "text/html": [
       "<div>\n",
       "<style scoped>\n",
       "    .dataframe tbody tr th:only-of-type {\n",
       "        vertical-align: middle;\n",
       "    }\n",
       "\n",
       "    .dataframe tbody tr th {\n",
       "        vertical-align: top;\n",
       "    }\n",
       "\n",
       "    .dataframe thead th {\n",
       "        text-align: right;\n",
       "    }\n",
       "</style>\n",
       "<table border=\"1\" class=\"dataframe\">\n",
       "  <thead>\n",
       "    <tr style=\"text-align: right;\">\n",
       "      <th></th>\n",
       "      <th>GEOID</th>\n",
       "      <th>total_pop</th>\n",
       "      <th>pop_density</th>\n",
       "      <th>density_abv_average</th>\n",
       "      <th>tot_ovr_18</th>\n",
       "      <th>tot_ovr_18_moe</th>\n",
       "      <th>tot_18_29</th>\n",
       "      <th>tot_18_29_moe</th>\n",
       "      <th>pct_18_29</th>\n",
       "      <th>pct_18_29_moe</th>\n",
       "      <th>tot_ovr_30</th>\n",
       "      <th>pct_ovr_30</th>\n",
       "      <th>Census Tract</th>\n",
       "      <th>County</th>\n",
       "      <th>pct_of_voters</th>\n",
       "      <th>geometry</th>\n",
       "    </tr>\n",
       "  </thead>\n",
       "  <tbody>\n",
       "    <tr>\n",
       "      <th>0</th>\n",
       "      <td>06065051200</td>\n",
       "      <td>4002</td>\n",
       "      <td>162.4045</td>\n",
       "      <td>0</td>\n",
       "      <td>2856</td>\n",
       "      <td>333</td>\n",
       "      <td>849</td>\n",
       "      <td>293</td>\n",
       "      <td>29.7</td>\n",
       "      <td>7.7</td>\n",
       "      <td>2007</td>\n",
       "      <td>70.3</td>\n",
       "      <td>CT 512</td>\n",
       "      <td>Riverside</td>\n",
       "      <td>71.364318</td>\n",
       "      <td>MULTIPOLYGON (((-117.14876 33.47290, -117.1493...</td>\n",
       "    </tr>\n",
       "  </tbody>\n",
       "</table>\n",
       "</div>"
      ],
      "text/plain": [
       "         GEOID  total_pop  pop_density  density_abv_average  tot_ovr_18  \\\n",
       "0  06065051200       4002     162.4045                    0        2856   \n",
       "\n",
       "   tot_ovr_18_moe  tot_18_29  tot_18_29_moe  pct_18_29  pct_18_29_moe  \\\n",
       "0             333        849            293       29.7            7.7   \n",
       "\n",
       "   tot_ovr_30  pct_ovr_30 Census Tract     County  pct_of_voters  \\\n",
       "0        2007        70.3       CT 512  Riverside      71.364318   \n",
       "\n",
       "                                            geometry  \n",
       "0  MULTIPOLYGON (((-117.14876 33.47290, -117.1493...  "
      ]
     },
     "execution_count": 26,
     "metadata": {},
     "output_type": "execute_result"
    }
   ],
   "source": [
    "gdf_w_voter.head(1)"
   ]
  },
  {
   "cell_type": "code",
   "execution_count": null,
   "metadata": {},
   "outputs": [],
   "source": []
  }
 ],
 "metadata": {
  "kernelspec": {
   "display_name": "Python 3",
   "language": "python",
   "name": "python3"
  },
  "language_info": {
   "codemirror_mode": {
    "name": "ipython",
    "version": 3
   },
   "file_extension": ".py",
   "mimetype": "text/x-python",
   "name": "python",
   "nbconvert_exporter": "python",
   "pygments_lexer": "ipython3",
   "version": "3.7.6"
  }
 },
 "nbformat": 4,
 "nbformat_minor": 4
}
