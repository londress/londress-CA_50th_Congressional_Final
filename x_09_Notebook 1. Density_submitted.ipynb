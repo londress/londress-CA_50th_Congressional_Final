{
 "cells": [
  {
   "cell_type": "markdown",
   "metadata": {},
   "source": [
    "##### working directory:     G:\\My Drive\\Data\\Density 2017\\Notebooks"
   ]
  },
  {
   "cell_type": "markdown",
   "metadata": {},
   "source": [
    "### 1.1 Libraries\n",
    "\n"
   ]
  },
  {
   "cell_type": "code",
   "execution_count": 1,
   "metadata": {},
   "outputs": [],
   "source": [
    "import numpy as np\n",
    "import pandas as pd\n",
    "import math\n",
    "\n",
    "# display all columns\n",
    "pd.set_option('display.max_columns', None)\n",
    "\n",
    "pd.options.display.float_format = '{:.2f}'.format\n",
    "# pd.set_option('display.max_columns', 30) #can specify for rows too, and change number to maximum you want"
   ]
  },
  {
   "cell_type": "markdown",
   "metadata": {},
   "source": [
    "#### This notebook does the following:\n",
    "-Select relevant columns from the population density dataset \n",
    "\n",
    "-Merges the data with census tract labels and \n",
    "\n",
    "-computes the index score for geos with density above average"
   ]
  },
  {
   "cell_type": "markdown",
   "metadata": {},
   "source": [
    "### 1.2 Importing Data\n",
    "\n"
   ]
  },
  {
   "cell_type": "code",
   "execution_count": 2,
   "metadata": {},
   "outputs": [],
   "source": [
    "#specify datatypes so FIPS numbers, etc. read in properly\n",
    "variable_types = {'Geo.id': 'str', 'GEO.id2': 'str'}\n",
    "\n",
    "df = pd.read_csv('G:\\My Drive\\Data\\Density 2017\\Original_Data\\R12538771_SL140.csv', delimiter = ',', header=[0], skiprows=[1], dtype=variable_types)\n",
    "#specify dtype with variable_types we created above"
   ]
  },
  {
   "cell_type": "code",
   "execution_count": 3,
   "metadata": {
    "scrolled": true
   },
   "outputs": [],
   "source": [
    "df = df[['FIPS', 'Total Population',\n",
    "       'Population Density (Per Sq. Mile)']] # selecting the first 28 columns"
   ]
  },
  {
   "cell_type": "code",
   "execution_count": 4,
   "metadata": {},
   "outputs": [],
   "source": [
    "# renaming columns\n",
    "df.rename(columns={\"Total Population\" : \"total_pop\", 'FIPS': 'GEOID',\n",
    "                    \"Population Density (Per Sq. Mile)\" : \"pop_density\",}, inplace=True)"
   ]
  },
  {
   "cell_type": "code",
   "execution_count": 5,
   "metadata": {
    "scrolled": true
   },
   "outputs": [
    {
     "data": {
      "text/plain": [
       "GEOID            int64\n",
       "total_pop        int64\n",
       "pop_density    float64\n",
       "dtype: object"
      ]
     },
     "execution_count": 5,
     "metadata": {},
     "output_type": "execute_result"
    }
   ],
   "source": [
    "df.dtypes"
   ]
  },
  {
   "cell_type": "code",
   "execution_count": 6,
   "metadata": {},
   "outputs": [
    {
     "data": {
      "text/html": [
       "<div>\n",
       "<style scoped>\n",
       "    .dataframe tbody tr th:only-of-type {\n",
       "        vertical-align: middle;\n",
       "    }\n",
       "\n",
       "    .dataframe tbody tr th {\n",
       "        vertical-align: top;\n",
       "    }\n",
       "\n",
       "    .dataframe thead th {\n",
       "        text-align: right;\n",
       "    }\n",
       "</style>\n",
       "<table border=\"1\" class=\"dataframe\">\n",
       "  <thead>\n",
       "    <tr style=\"text-align: right;\">\n",
       "      <th></th>\n",
       "      <th>GEOID</th>\n",
       "      <th>total_pop</th>\n",
       "      <th>pop_density</th>\n",
       "    </tr>\n",
       "  </thead>\n",
       "  <tbody>\n",
       "    <tr>\n",
       "      <th>0</th>\n",
       "      <td>6001400100</td>\n",
       "      <td>2991</td>\n",
       "      <td>1123.62</td>\n",
       "    </tr>\n",
       "    <tr>\n",
       "      <th>1</th>\n",
       "      <td>6001400200</td>\n",
       "      <td>1997</td>\n",
       "      <td>8804.50</td>\n",
       "    </tr>\n",
       "    <tr>\n",
       "      <th>2</th>\n",
       "      <td>6001400300</td>\n",
       "      <td>5123</td>\n",
       "      <td>12004.13</td>\n",
       "    </tr>\n",
       "    <tr>\n",
       "      <th>3</th>\n",
       "      <td>6001400400</td>\n",
       "      <td>3991</td>\n",
       "      <td>14462.34</td>\n",
       "    </tr>\n",
       "    <tr>\n",
       "      <th>4</th>\n",
       "      <td>6001400500</td>\n",
       "      <td>3944</td>\n",
       "      <td>17304.41</td>\n",
       "    </tr>\n",
       "    <tr>\n",
       "      <th>5</th>\n",
       "      <td>6001400600</td>\n",
       "      <td>1635</td>\n",
       "      <td>14217.04</td>\n",
       "    </tr>\n",
       "    <tr>\n",
       "      <th>6</th>\n",
       "      <td>6001400700</td>\n",
       "      <td>4837</td>\n",
       "      <td>14231.20</td>\n",
       "    </tr>\n",
       "    <tr>\n",
       "      <th>7</th>\n",
       "      <td>6001400800</td>\n",
       "      <td>3796</td>\n",
       "      <td>14120.98</td>\n",
       "    </tr>\n",
       "    <tr>\n",
       "      <th>8</th>\n",
       "      <td>6001400900</td>\n",
       "      <td>2394</td>\n",
       "      <td>14732.17</td>\n",
       "    </tr>\n",
       "    <tr>\n",
       "      <th>9</th>\n",
       "      <td>6001401000</td>\n",
       "      <td>6247</td>\n",
       "      <td>14138.94</td>\n",
       "    </tr>\n",
       "  </tbody>\n",
       "</table>\n",
       "</div>"
      ],
      "text/plain": [
       "        GEOID  total_pop  pop_density\n",
       "0  6001400100       2991      1123.62\n",
       "1  6001400200       1997      8804.50\n",
       "2  6001400300       5123     12004.13\n",
       "3  6001400400       3991     14462.34\n",
       "4  6001400500       3944     17304.41\n",
       "5  6001400600       1635     14217.04\n",
       "6  6001400700       4837     14231.20\n",
       "7  6001400800       3796     14120.98\n",
       "8  6001400900       2394     14732.17\n",
       "9  6001401000       6247     14138.94"
      ]
     },
     "execution_count": 6,
     "metadata": {},
     "output_type": "execute_result"
    }
   ],
   "source": [
    "df.head(10)"
   ]
  },
  {
   "cell_type": "code",
   "execution_count": 7,
   "metadata": {},
   "outputs": [
    {
     "data": {
      "text/html": [
       "<div>\n",
       "<style scoped>\n",
       "    .dataframe tbody tr th:only-of-type {\n",
       "        vertical-align: middle;\n",
       "    }\n",
       "\n",
       "    .dataframe tbody tr th {\n",
       "        vertical-align: top;\n",
       "    }\n",
       "\n",
       "    .dataframe thead th {\n",
       "        text-align: right;\n",
       "    }\n",
       "</style>\n",
       "<table border=\"1\" class=\"dataframe\">\n",
       "  <thead>\n",
       "    <tr style=\"text-align: right;\">\n",
       "      <th></th>\n",
       "      <th>GEOID</th>\n",
       "      <th>Census Tract</th>\n",
       "      <th>County</th>\n",
       "    </tr>\n",
       "  </thead>\n",
       "  <tbody>\n",
       "    <tr>\n",
       "      <th>0</th>\n",
       "      <td>6065043216</td>\n",
       "      <td>CT 432.16</td>\n",
       "      <td>Riverside</td>\n",
       "    </tr>\n",
       "    <tr>\n",
       "      <th>1</th>\n",
       "      <td>6065043218</td>\n",
       "      <td>CT 432.18</td>\n",
       "      <td>Riverside</td>\n",
       "    </tr>\n",
       "    <tr>\n",
       "      <th>2</th>\n",
       "      <td>6065043220</td>\n",
       "      <td>CT 432.20</td>\n",
       "      <td>Riverside</td>\n",
       "    </tr>\n",
       "    <tr>\n",
       "      <th>3</th>\n",
       "      <td>6065043222</td>\n",
       "      <td>CT 432.22</td>\n",
       "      <td>Riverside</td>\n",
       "    </tr>\n",
       "    <tr>\n",
       "      <th>4</th>\n",
       "      <td>6065043246</td>\n",
       "      <td>CT 432.46</td>\n",
       "      <td>Riverside</td>\n",
       "    </tr>\n",
       "    <tr>\n",
       "      <th>...</th>\n",
       "      <td>...</td>\n",
       "      <td>...</td>\n",
       "      <td>...</td>\n",
       "    </tr>\n",
       "    <tr>\n",
       "      <th>154</th>\n",
       "      <td>6073021205</td>\n",
       "      <td>CT 212.05</td>\n",
       "      <td>San Diego</td>\n",
       "    </tr>\n",
       "    <tr>\n",
       "      <th>155</th>\n",
       "      <td>6073021206</td>\n",
       "      <td>CT 212.06</td>\n",
       "      <td>San Diego</td>\n",
       "    </tr>\n",
       "    <tr>\n",
       "      <th>156</th>\n",
       "      <td>6073021302</td>\n",
       "      <td>CT 213.02</td>\n",
       "      <td>San Diego</td>\n",
       "    </tr>\n",
       "    <tr>\n",
       "      <th>157</th>\n",
       "      <td>6073021303</td>\n",
       "      <td>CT 213.03</td>\n",
       "      <td>San Diego</td>\n",
       "    </tr>\n",
       "    <tr>\n",
       "      <th>158</th>\n",
       "      <td>6073021304</td>\n",
       "      <td>CT 213.04</td>\n",
       "      <td>San Diego</td>\n",
       "    </tr>\n",
       "  </tbody>\n",
       "</table>\n",
       "<p>159 rows × 3 columns</p>\n",
       "</div>"
      ],
      "text/plain": [
       "          GEOID Census Tract     County\n",
       "0    6065043216    CT 432.16  Riverside\n",
       "1    6065043218    CT 432.18  Riverside\n",
       "2    6065043220    CT 432.20  Riverside\n",
       "3    6065043222    CT 432.22  Riverside\n",
       "4    6065043246    CT 432.46  Riverside\n",
       "..          ...          ...        ...\n",
       "154  6073021205    CT 212.05  San Diego\n",
       "155  6073021206    CT 212.06  San Diego\n",
       "156  6073021302    CT 213.02  San Diego\n",
       "157  6073021303    CT 213.03  San Diego\n",
       "158  6073021304    CT 213.04  San Diego\n",
       "\n",
       "[159 rows x 3 columns]"
      ]
     },
     "execution_count": 7,
     "metadata": {},
     "output_type": "execute_result"
    }
   ],
   "source": [
    "lu = pd.read_csv(r'G:\\My Drive\\Data\\Race Eth ACS 2017\\Data_Exports\\lookup_ct_county_name.csv')\n",
    "lu"
   ]
  },
  {
   "cell_type": "code",
   "execution_count": 8,
   "metadata": {},
   "outputs": [],
   "source": [
    "merged_df = pd.merge(lu, df, on='GEOID', how='inner')"
   ]
  },
  {
   "cell_type": "code",
   "execution_count": 9,
   "metadata": {},
   "outputs": [
    {
     "name": "stdout",
     "output_type": "stream",
     "text": [
      "Number of Rows: 159\n",
      "Number of Columns: 5\n"
     ]
    }
   ],
   "source": [
    "# number of rows and columns in df\n",
    "total_rows=len(merged_df.axes[0])\n",
    "total_cols=len(merged_df.axes[1])\n",
    "print(\"Number of Rows: \"+str(total_rows))\n",
    "print(\"Number of Columns: \"+str(total_cols))"
   ]
  },
  {
   "cell_type": "code",
   "execution_count": 10,
   "metadata": {},
   "outputs": [],
   "source": [
    "merged_df['density_abv_average']=0\n"
   ]
  },
  {
   "cell_type": "code",
   "execution_count": 11,
   "metadata": {
    "scrolled": true
   },
   "outputs": [
    {
     "data": {
      "text/html": [
       "<div>\n",
       "<style scoped>\n",
       "    .dataframe tbody tr th:only-of-type {\n",
       "        vertical-align: middle;\n",
       "    }\n",
       "\n",
       "    .dataframe tbody tr th {\n",
       "        vertical-align: top;\n",
       "    }\n",
       "\n",
       "    .dataframe thead th {\n",
       "        text-align: right;\n",
       "    }\n",
       "</style>\n",
       "<table border=\"1\" class=\"dataframe\">\n",
       "  <thead>\n",
       "    <tr style=\"text-align: right;\">\n",
       "      <th></th>\n",
       "      <th>GEOID</th>\n",
       "      <th>Census Tract</th>\n",
       "      <th>County</th>\n",
       "      <th>total_pop</th>\n",
       "      <th>pop_density</th>\n",
       "      <th>density_abv_average</th>\n",
       "    </tr>\n",
       "  </thead>\n",
       "  <tbody>\n",
       "    <tr>\n",
       "      <th>0</th>\n",
       "      <td>6065043216</td>\n",
       "      <td>CT 432.16</td>\n",
       "      <td>Riverside</td>\n",
       "      <td>6359</td>\n",
       "      <td>3215.16</td>\n",
       "      <td>0</td>\n",
       "    </tr>\n",
       "    <tr>\n",
       "      <th>1</th>\n",
       "      <td>6065043218</td>\n",
       "      <td>CT 432.18</td>\n",
       "      <td>Riverside</td>\n",
       "      <td>5415</td>\n",
       "      <td>2814.28</td>\n",
       "      <td>0</td>\n",
       "    </tr>\n",
       "    <tr>\n",
       "      <th>2</th>\n",
       "      <td>6065043220</td>\n",
       "      <td>CT 432.20</td>\n",
       "      <td>Riverside</td>\n",
       "      <td>4480</td>\n",
       "      <td>6523.11</td>\n",
       "      <td>1</td>\n",
       "    </tr>\n",
       "    <tr>\n",
       "      <th>3</th>\n",
       "      <td>6065043222</td>\n",
       "      <td>CT 432.22</td>\n",
       "      <td>Riverside</td>\n",
       "      <td>4570</td>\n",
       "      <td>1353.67</td>\n",
       "      <td>0</td>\n",
       "    </tr>\n",
       "    <tr>\n",
       "      <th>4</th>\n",
       "      <td>6065043246</td>\n",
       "      <td>CT 432.46</td>\n",
       "      <td>Riverside</td>\n",
       "      <td>5706</td>\n",
       "      <td>1140.15</td>\n",
       "      <td>0</td>\n",
       "    </tr>\n",
       "    <tr>\n",
       "      <th>...</th>\n",
       "      <td>...</td>\n",
       "      <td>...</td>\n",
       "      <td>...</td>\n",
       "      <td>...</td>\n",
       "      <td>...</td>\n",
       "      <td>...</td>\n",
       "    </tr>\n",
       "    <tr>\n",
       "      <th>154</th>\n",
       "      <td>6073021205</td>\n",
       "      <td>CT 212.05</td>\n",
       "      <td>San Diego</td>\n",
       "      <td>7073</td>\n",
       "      <td>1844.53</td>\n",
       "      <td>0</td>\n",
       "    </tr>\n",
       "    <tr>\n",
       "      <th>155</th>\n",
       "      <td>6073021206</td>\n",
       "      <td>CT 212.06</td>\n",
       "      <td>San Diego</td>\n",
       "      <td>3065</td>\n",
       "      <td>187.84</td>\n",
       "      <td>0</td>\n",
       "    </tr>\n",
       "    <tr>\n",
       "      <th>156</th>\n",
       "      <td>6073021302</td>\n",
       "      <td>CT 213.02</td>\n",
       "      <td>San Diego</td>\n",
       "      <td>7738</td>\n",
       "      <td>53.10</td>\n",
       "      <td>0</td>\n",
       "    </tr>\n",
       "    <tr>\n",
       "      <th>157</th>\n",
       "      <td>6073021303</td>\n",
       "      <td>CT 213.03</td>\n",
       "      <td>San Diego</td>\n",
       "      <td>9497</td>\n",
       "      <td>319.80</td>\n",
       "      <td>0</td>\n",
       "    </tr>\n",
       "    <tr>\n",
       "      <th>158</th>\n",
       "      <td>6073021304</td>\n",
       "      <td>CT 213.04</td>\n",
       "      <td>San Diego</td>\n",
       "      <td>2508</td>\n",
       "      <td>81.00</td>\n",
       "      <td>0</td>\n",
       "    </tr>\n",
       "  </tbody>\n",
       "</table>\n",
       "<p>159 rows × 6 columns</p>\n",
       "</div>"
      ],
      "text/plain": [
       "          GEOID Census Tract     County  total_pop  pop_density  \\\n",
       "0    6065043216    CT 432.16  Riverside       6359      3215.16   \n",
       "1    6065043218    CT 432.18  Riverside       5415      2814.28   \n",
       "2    6065043220    CT 432.20  Riverside       4480      6523.11   \n",
       "3    6065043222    CT 432.22  Riverside       4570      1353.67   \n",
       "4    6065043246    CT 432.46  Riverside       5706      1140.15   \n",
       "..          ...          ...        ...        ...          ...   \n",
       "154  6073021205    CT 212.05  San Diego       7073      1844.53   \n",
       "155  6073021206    CT 212.06  San Diego       3065       187.84   \n",
       "156  6073021302    CT 213.02  San Diego       7738        53.10   \n",
       "157  6073021303    CT 213.03  San Diego       9497       319.80   \n",
       "158  6073021304    CT 213.04  San Diego       2508        81.00   \n",
       "\n",
       "     density_abv_average  \n",
       "0                      0  \n",
       "1                      0  \n",
       "2                      1  \n",
       "3                      0  \n",
       "4                      0  \n",
       "..                   ...  \n",
       "154                    0  \n",
       "155                    0  \n",
       "156                    0  \n",
       "157                    0  \n",
       "158                    0  \n",
       "\n",
       "[159 rows x 6 columns]"
      ]
     },
     "execution_count": 11,
     "metadata": {},
     "output_type": "execute_result"
    }
   ],
   "source": [
    "merged_df[\"density_abv_average\"] = np.where((merged_df.pop_density > 4500), 1, 0)\n",
    "merged_df"
   ]
  },
  {
   "cell_type": "code",
   "execution_count": 12,
   "metadata": {},
   "outputs": [
    {
     "data": {
      "text/html": [
       "<div>\n",
       "<style scoped>\n",
       "    .dataframe tbody tr th:only-of-type {\n",
       "        vertical-align: middle;\n",
       "    }\n",
       "\n",
       "    .dataframe tbody tr th {\n",
       "        vertical-align: top;\n",
       "    }\n",
       "\n",
       "    .dataframe thead th {\n",
       "        text-align: right;\n",
       "    }\n",
       "</style>\n",
       "<table border=\"1\" class=\"dataframe\">\n",
       "  <thead>\n",
       "    <tr style=\"text-align: right;\">\n",
       "      <th></th>\n",
       "      <th>GEOID</th>\n",
       "      <th>total_pop</th>\n",
       "      <th>pop_density</th>\n",
       "      <th>density_abv_average</th>\n",
       "    </tr>\n",
       "  </thead>\n",
       "  <tbody>\n",
       "    <tr>\n",
       "      <th>count</th>\n",
       "      <td>159.00</td>\n",
       "      <td>159.00</td>\n",
       "      <td>159.00</td>\n",
       "      <td>159.00</td>\n",
       "    </tr>\n",
       "    <tr>\n",
       "      <th>mean</th>\n",
       "      <td>6072115686.21</td>\n",
       "      <td>5927.82</td>\n",
       "      <td>4519.02</td>\n",
       "      <td>0.34</td>\n",
       "    </tr>\n",
       "    <tr>\n",
       "      <th>std</th>\n",
       "      <td>2534645.90</td>\n",
       "      <td>3590.34</td>\n",
       "      <td>5398.96</td>\n",
       "      <td>0.48</td>\n",
       "    </tr>\n",
       "    <tr>\n",
       "      <th>min</th>\n",
       "      <td>6065043216.00</td>\n",
       "      <td>1600.00</td>\n",
       "      <td>3.25</td>\n",
       "      <td>0.00</td>\n",
       "    </tr>\n",
       "    <tr>\n",
       "      <th>25%</th>\n",
       "      <td>6073016351.50</td>\n",
       "      <td>4008.00</td>\n",
       "      <td>587.00</td>\n",
       "      <td>0.00</td>\n",
       "    </tr>\n",
       "    <tr>\n",
       "      <th>50%</th>\n",
       "      <td>6073018904.00</td>\n",
       "      <td>5599.00</td>\n",
       "      <td>3085.66</td>\n",
       "      <td>0.00</td>\n",
       "    </tr>\n",
       "    <tr>\n",
       "      <th>75%</th>\n",
       "      <td>6073020212.00</td>\n",
       "      <td>7143.50</td>\n",
       "      <td>5889.83</td>\n",
       "      <td>1.00</td>\n",
       "    </tr>\n",
       "    <tr>\n",
       "      <th>max</th>\n",
       "      <td>6073021304.00</td>\n",
       "      <td>40402.00</td>\n",
       "      <td>30085.25</td>\n",
       "      <td>1.00</td>\n",
       "    </tr>\n",
       "  </tbody>\n",
       "</table>\n",
       "</div>"
      ],
      "text/plain": [
       "              GEOID  total_pop  pop_density  density_abv_average\n",
       "count        159.00     159.00       159.00               159.00\n",
       "mean  6072115686.21    5927.82      4519.02                 0.34\n",
       "std      2534645.90    3590.34      5398.96                 0.48\n",
       "min   6065043216.00    1600.00         3.25                 0.00\n",
       "25%   6073016351.50    4008.00       587.00                 0.00\n",
       "50%   6073018904.00    5599.00      3085.66                 0.00\n",
       "75%   6073020212.00    7143.50      5889.83                 1.00\n",
       "max   6073021304.00   40402.00     30085.25                 1.00"
      ]
     },
     "execution_count": 12,
     "metadata": {},
     "output_type": "execute_result"
    }
   ],
   "source": [
    "merged_df.describe()"
   ]
  },
  {
   "cell_type": "code",
   "execution_count": 13,
   "metadata": {},
   "outputs": [
    {
     "data": {
      "text/plain": [
       "54"
      ]
     },
     "execution_count": 13,
     "metadata": {},
     "output_type": "execute_result"
    }
   ],
   "source": [
    "merged_df['density_abv_average'].sum()"
   ]
  },
  {
   "cell_type": "code",
   "execution_count": 14,
   "metadata": {},
   "outputs": [],
   "source": [
    "merged_df.to_csv('G:\\My Drive\\Data\\Density 2017\\Data_Exports\\density.csv', index=False)"
   ]
  },
  {
   "cell_type": "code",
   "execution_count": 15,
   "metadata": {},
   "outputs": [],
   "source": [
    "# export dataframe\n",
    "merged_df.to_csv(r'G:\\My Drive\\Data\\CA Congressional District_Compilation\\Data_Exports\\density.csv', index=False)"
   ]
  },
  {
   "cell_type": "code",
   "execution_count": null,
   "metadata": {},
   "outputs": [],
   "source": []
  },
  {
   "cell_type": "code",
   "execution_count": null,
   "metadata": {},
   "outputs": [],
   "source": []
  }
 ],
 "metadata": {
  "kernelspec": {
   "display_name": "Python 3",
   "language": "python",
   "name": "python3"
  },
  "language_info": {
   "codemirror_mode": {
    "name": "ipython",
    "version": 3
   },
   "file_extension": ".py",
   "mimetype": "text/x-python",
   "name": "python",
   "nbconvert_exporter": "python",
   "pygments_lexer": "ipython3",
   "version": "3.7.6"
  }
 },
 "nbformat": 4,
 "nbformat_minor": 4
}
